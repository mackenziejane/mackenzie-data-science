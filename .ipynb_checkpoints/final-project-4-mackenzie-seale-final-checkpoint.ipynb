{
 "cells": [
  {
   "cell_type": "markdown",
   "metadata": {},
   "source": [
    "# DS-NYC-45 | Final Project 4: Modeling Performance"
   ]
  },
  {
   "cell_type": "markdown",
   "metadata": {},
   "source": [
    "#### 1) Load Relevant Libraries and Data"
   ]
  },
  {
   "cell_type": "code",
   "execution_count": 31,
   "metadata": {
    "collapsed": false
   },
   "outputs": [],
   "source": [
    "import os\n",
    "import pandas as pd\n",
    "import numpy as np\n",
    "import matplotlib.pyplot as plt\n",
    "import seaborn as sns\n",
    "import statsmodels.api as sm\n",
    "import sklearn as skl\n",
    "from sklearn import ensemble, metrics\n",
    "from sklearn.tree import DecisionTreeClassifier, export_graphviz\n",
    "from sklearn.ensemble import RandomForestRegressor,ExtraTreesClassifier, RandomForestClassifier\n",
    "from sklearn.linear_model import LinearRegression, LogisticRegression, RidgeCV\n",
    "from sklearn.preprocessing import StandardScaler\n",
    "from sklearn.neighbors import KNeighborsClassifier\n",
    "from sklearn.model_selection import ShuffleSplit, cross_val_score\n",
    "\n",
    "pd.set_option('display.max_rows', 1000)\n",
    "pd.set_option('display.max_columns', 100)\n",
    "pd.set_option('display.notebook_repr_html', True)\n",
    "\n",
    "%matplotlib inline\n",
    "plt.style.use('ggplot')"
   ]
  },
  {
   "cell_type": "code",
   "execution_count": 13,
   "metadata": {
    "collapsed": false
   },
   "outputs": [],
   "source": [
    "users = pd.read_csv(os.path.join('project_dataset', 'user_data.csv'), index_col='user_id')\n",
    "res = pd.read_csv(os.path.join('project_dataset', 'reservations_data.csv'), index_col='user_id')"
   ]
  },
  {
   "cell_type": "markdown",
   "metadata": {},
   "source": [
    "#### 2) Combine & Clean Data"
   ]
  },
  {
   "cell_type": "code",
   "execution_count": 14,
   "metadata": {
    "collapsed": false
   },
   "outputs": [],
   "source": [
    "df = pd.concat([users, res], axis=1, join_axes=[users.index])"
   ]
  },
  {
   "cell_type": "code",
   "execution_count": 15,
   "metadata": {
    "collapsed": false
   },
   "outputs": [
    {
     "data": {
      "text/html": [
       "<div>\n",
       "<table border=\"1\" class=\"dataframe\">\n",
       "  <thead>\n",
       "    <tr style=\"text-align: right;\">\n",
       "      <th></th>\n",
       "      <th>is_converted</th>\n",
       "      <th>lead_created_month</th>\n",
       "      <th>lead_created_day_of_week</th>\n",
       "      <th>is_paidsocial_lead</th>\n",
       "      <th>is_organic_lead</th>\n",
       "      <th>is_seo_studios</th>\n",
       "      <th>is_inviteafriend</th>\n",
       "      <th>is_email</th>\n",
       "      <th>is_referral</th>\n",
       "      <th>is_paidsocial</th>\n",
       "      <th>is_organic</th>\n",
       "      <th>user_acquisition_month</th>\n",
       "      <th>user_acquisition_day_of_week</th>\n",
       "      <th>promo_days</th>\n",
       "      <th>lead_to_promo_days</th>\n",
       "      <th>is_three_studio_visits</th>\n",
       "      <th>is_two_studio_visits</th>\n",
       "      <th>is_four_studio_visits</th>\n",
       "      <th>is_onboarded</th>\n",
       "      <th>user_country</th>\n",
       "      <th>user_msa_id</th>\n",
       "      <th>avg_class_rating</th>\n",
       "      <th>avg_days_from_booking_to_class</th>\n",
       "      <th>avg_peak_classes</th>\n",
       "      <th>reservations_attended_barre_count</th>\n",
       "      <th>reservations_attended_boxing_count</th>\n",
       "      <th>reservations_attended_cycling_count</th>\n",
       "      <th>reservations_attended_dance_count</th>\n",
       "      <th>reservations_attended_gym_count</th>\n",
       "      <th>reservations_attended_martial_arts_count</th>\n",
       "      <th>reservations_attended_pilates_count</th>\n",
       "      <th>reservations_attended_rowing_count</th>\n",
       "      <th>reservations_attended_strength_training_count</th>\n",
       "      <th>reservations_attended_yoga_count</th>\n",
       "      <th>reservations_attended_t1_count</th>\n",
       "      <th>reservations_attended_t2_count</th>\n",
       "      <th>reservations_attended_t3_count</th>\n",
       "      <th>reservations_attended_count</th>\n",
       "      <th>reservations_missed_count</th>\n",
       "      <th>reservations_late_cancelled_count</th>\n",
       "      <th>cost_of_all_reservations_in_usd_no_tax</th>\n",
       "    </tr>\n",
       "    <tr>\n",
       "      <th>user_id</th>\n",
       "      <th></th>\n",
       "      <th></th>\n",
       "      <th></th>\n",
       "      <th></th>\n",
       "      <th></th>\n",
       "      <th></th>\n",
       "      <th></th>\n",
       "      <th></th>\n",
       "      <th></th>\n",
       "      <th></th>\n",
       "      <th></th>\n",
       "      <th></th>\n",
       "      <th></th>\n",
       "      <th></th>\n",
       "      <th></th>\n",
       "      <th></th>\n",
       "      <th></th>\n",
       "      <th></th>\n",
       "      <th></th>\n",
       "      <th></th>\n",
       "      <th></th>\n",
       "      <th></th>\n",
       "      <th></th>\n",
       "      <th></th>\n",
       "      <th></th>\n",
       "      <th></th>\n",
       "      <th></th>\n",
       "      <th></th>\n",
       "      <th></th>\n",
       "      <th></th>\n",
       "      <th></th>\n",
       "      <th></th>\n",
       "      <th></th>\n",
       "      <th></th>\n",
       "      <th></th>\n",
       "      <th></th>\n",
       "      <th></th>\n",
       "      <th></th>\n",
       "      <th></th>\n",
       "      <th></th>\n",
       "      <th></th>\n",
       "    </tr>\n",
       "  </thead>\n",
       "  <tbody>\n",
       "    <tr>\n",
       "      <th>12</th>\n",
       "      <td>0</td>\n",
       "      <td>5</td>\n",
       "      <td>4</td>\n",
       "      <td>0</td>\n",
       "      <td>1</td>\n",
       "      <td>0</td>\n",
       "      <td>0</td>\n",
       "      <td>0</td>\n",
       "      <td>0</td>\n",
       "      <td>0</td>\n",
       "      <td>1</td>\n",
       "      <td>9.0</td>\n",
       "      <td>3.0</td>\n",
       "      <td>0.0</td>\n",
       "      <td>0</td>\n",
       "      <td>1</td>\n",
       "      <td>0</td>\n",
       "      <td>0</td>\n",
       "      <td>1</td>\n",
       "      <td>1.0</td>\n",
       "      <td>1.0</td>\n",
       "      <td>0.0</td>\n",
       "      <td>0.00</td>\n",
       "      <td>0.00</td>\n",
       "      <td>0.0</td>\n",
       "      <td>0.0</td>\n",
       "      <td>0.0</td>\n",
       "      <td>0.0</td>\n",
       "      <td>0.0</td>\n",
       "      <td>0.0</td>\n",
       "      <td>0.0</td>\n",
       "      <td>0.0</td>\n",
       "      <td>0.0</td>\n",
       "      <td>0.0</td>\n",
       "      <td>0.0</td>\n",
       "      <td>0.0</td>\n",
       "      <td>0.0</td>\n",
       "      <td>0.0</td>\n",
       "      <td>0.0</td>\n",
       "      <td>0.0</td>\n",
       "      <td>0.0</td>\n",
       "    </tr>\n",
       "    <tr>\n",
       "      <th>14</th>\n",
       "      <td>0</td>\n",
       "      <td>5</td>\n",
       "      <td>5</td>\n",
       "      <td>0</td>\n",
       "      <td>1</td>\n",
       "      <td>0</td>\n",
       "      <td>0</td>\n",
       "      <td>0</td>\n",
       "      <td>0</td>\n",
       "      <td>0</td>\n",
       "      <td>1</td>\n",
       "      <td>9.0</td>\n",
       "      <td>3.0</td>\n",
       "      <td>0.0</td>\n",
       "      <td>0</td>\n",
       "      <td>1</td>\n",
       "      <td>0</td>\n",
       "      <td>0</td>\n",
       "      <td>1</td>\n",
       "      <td>1.0</td>\n",
       "      <td>1.0</td>\n",
       "      <td>0.0</td>\n",
       "      <td>0.00</td>\n",
       "      <td>0.00</td>\n",
       "      <td>0.0</td>\n",
       "      <td>0.0</td>\n",
       "      <td>0.0</td>\n",
       "      <td>0.0</td>\n",
       "      <td>0.0</td>\n",
       "      <td>0.0</td>\n",
       "      <td>0.0</td>\n",
       "      <td>0.0</td>\n",
       "      <td>0.0</td>\n",
       "      <td>0.0</td>\n",
       "      <td>0.0</td>\n",
       "      <td>0.0</td>\n",
       "      <td>0.0</td>\n",
       "      <td>0.0</td>\n",
       "      <td>0.0</td>\n",
       "      <td>0.0</td>\n",
       "      <td>0.0</td>\n",
       "    </tr>\n",
       "    <tr>\n",
       "      <th>15</th>\n",
       "      <td>1</td>\n",
       "      <td>6</td>\n",
       "      <td>1</td>\n",
       "      <td>0</td>\n",
       "      <td>1</td>\n",
       "      <td>0</td>\n",
       "      <td>0</td>\n",
       "      <td>0</td>\n",
       "      <td>0</td>\n",
       "      <td>0</td>\n",
       "      <td>1</td>\n",
       "      <td>9.0</td>\n",
       "      <td>1.0</td>\n",
       "      <td>0.0</td>\n",
       "      <td>0</td>\n",
       "      <td>0</td>\n",
       "      <td>1</td>\n",
       "      <td>0</td>\n",
       "      <td>1</td>\n",
       "      <td>1.0</td>\n",
       "      <td>1.0</td>\n",
       "      <td>0.0</td>\n",
       "      <td>0.00</td>\n",
       "      <td>0.00</td>\n",
       "      <td>0.0</td>\n",
       "      <td>0.0</td>\n",
       "      <td>0.0</td>\n",
       "      <td>0.0</td>\n",
       "      <td>0.0</td>\n",
       "      <td>0.0</td>\n",
       "      <td>0.0</td>\n",
       "      <td>0.0</td>\n",
       "      <td>0.0</td>\n",
       "      <td>0.0</td>\n",
       "      <td>0.0</td>\n",
       "      <td>0.0</td>\n",
       "      <td>0.0</td>\n",
       "      <td>0.0</td>\n",
       "      <td>0.0</td>\n",
       "      <td>0.0</td>\n",
       "      <td>0.0</td>\n",
       "    </tr>\n",
       "    <tr>\n",
       "      <th>16</th>\n",
       "      <td>1</td>\n",
       "      <td>7</td>\n",
       "      <td>3</td>\n",
       "      <td>0</td>\n",
       "      <td>1</td>\n",
       "      <td>0</td>\n",
       "      <td>0</td>\n",
       "      <td>0</td>\n",
       "      <td>0</td>\n",
       "      <td>0</td>\n",
       "      <td>1</td>\n",
       "      <td>8.0</td>\n",
       "      <td>4.0</td>\n",
       "      <td>0.0</td>\n",
       "      <td>0</td>\n",
       "      <td>1</td>\n",
       "      <td>0</td>\n",
       "      <td>0</td>\n",
       "      <td>1</td>\n",
       "      <td>1.0</td>\n",
       "      <td>1.0</td>\n",
       "      <td>0.0</td>\n",
       "      <td>0.00</td>\n",
       "      <td>0.00</td>\n",
       "      <td>0.0</td>\n",
       "      <td>0.0</td>\n",
       "      <td>0.0</td>\n",
       "      <td>0.0</td>\n",
       "      <td>0.0</td>\n",
       "      <td>0.0</td>\n",
       "      <td>0.0</td>\n",
       "      <td>0.0</td>\n",
       "      <td>0.0</td>\n",
       "      <td>0.0</td>\n",
       "      <td>0.0</td>\n",
       "      <td>0.0</td>\n",
       "      <td>0.0</td>\n",
       "      <td>0.0</td>\n",
       "      <td>0.0</td>\n",
       "      <td>0.0</td>\n",
       "      <td>0.0</td>\n",
       "    </tr>\n",
       "    <tr>\n",
       "      <th>23</th>\n",
       "      <td>1</td>\n",
       "      <td>6</td>\n",
       "      <td>1</td>\n",
       "      <td>0</td>\n",
       "      <td>1</td>\n",
       "      <td>0</td>\n",
       "      <td>0</td>\n",
       "      <td>0</td>\n",
       "      <td>0</td>\n",
       "      <td>0</td>\n",
       "      <td>0</td>\n",
       "      <td>8.0</td>\n",
       "      <td>3.0</td>\n",
       "      <td>30.0</td>\n",
       "      <td>429</td>\n",
       "      <td>0</td>\n",
       "      <td>1</td>\n",
       "      <td>0</td>\n",
       "      <td>1</td>\n",
       "      <td>1.0</td>\n",
       "      <td>1.0</td>\n",
       "      <td>5.0</td>\n",
       "      <td>1.25</td>\n",
       "      <td>0.75</td>\n",
       "      <td>0.0</td>\n",
       "      <td>0.0</td>\n",
       "      <td>0.0</td>\n",
       "      <td>1.0</td>\n",
       "      <td>0.0</td>\n",
       "      <td>0.0</td>\n",
       "      <td>0.0</td>\n",
       "      <td>0.0</td>\n",
       "      <td>2.0</td>\n",
       "      <td>0.0</td>\n",
       "      <td>0.0</td>\n",
       "      <td>2.0</td>\n",
       "      <td>0.0</td>\n",
       "      <td>2.0</td>\n",
       "      <td>0.0</td>\n",
       "      <td>0.0</td>\n",
       "      <td>25.0</td>\n",
       "    </tr>\n",
       "  </tbody>\n",
       "</table>\n",
       "</div>"
      ],
      "text/plain": [
       "         is_converted  lead_created_month  lead_created_day_of_week  \\\n",
       "user_id                                                               \n",
       "12                  0                   5                         4   \n",
       "14                  0                   5                         5   \n",
       "15                  1                   6                         1   \n",
       "16                  1                   7                         3   \n",
       "23                  1                   6                         1   \n",
       "\n",
       "         is_paidsocial_lead  is_organic_lead  is_seo_studios  \\\n",
       "user_id                                                        \n",
       "12                        0                1               0   \n",
       "14                        0                1               0   \n",
       "15                        0                1               0   \n",
       "16                        0                1               0   \n",
       "23                        0                1               0   \n",
       "\n",
       "         is_inviteafriend  is_email  is_referral  is_paidsocial  is_organic  \\\n",
       "user_id                                                                       \n",
       "12                      0         0            0              0           1   \n",
       "14                      0         0            0              0           1   \n",
       "15                      0         0            0              0           1   \n",
       "16                      0         0            0              0           1   \n",
       "23                      0         0            0              0           0   \n",
       "\n",
       "         user_acquisition_month  user_acquisition_day_of_week  promo_days  \\\n",
       "user_id                                                                     \n",
       "12                          9.0                           3.0         0.0   \n",
       "14                          9.0                           3.0         0.0   \n",
       "15                          9.0                           1.0         0.0   \n",
       "16                          8.0                           4.0         0.0   \n",
       "23                          8.0                           3.0        30.0   \n",
       "\n",
       "         lead_to_promo_days  is_three_studio_visits  is_two_studio_visits  \\\n",
       "user_id                                                                     \n",
       "12                        0                       1                     0   \n",
       "14                        0                       1                     0   \n",
       "15                        0                       0                     1   \n",
       "16                        0                       1                     0   \n",
       "23                      429                       0                     1   \n",
       "\n",
       "         is_four_studio_visits  is_onboarded  user_country  user_msa_id  \\\n",
       "user_id                                                                   \n",
       "12                           0             1           1.0          1.0   \n",
       "14                           0             1           1.0          1.0   \n",
       "15                           0             1           1.0          1.0   \n",
       "16                           0             1           1.0          1.0   \n",
       "23                           0             1           1.0          1.0   \n",
       "\n",
       "         avg_class_rating  avg_days_from_booking_to_class  avg_peak_classes  \\\n",
       "user_id                                                                       \n",
       "12                    0.0                            0.00              0.00   \n",
       "14                    0.0                            0.00              0.00   \n",
       "15                    0.0                            0.00              0.00   \n",
       "16                    0.0                            0.00              0.00   \n",
       "23                    5.0                            1.25              0.75   \n",
       "\n",
       "         reservations_attended_barre_count  \\\n",
       "user_id                                      \n",
       "12                                     0.0   \n",
       "14                                     0.0   \n",
       "15                                     0.0   \n",
       "16                                     0.0   \n",
       "23                                     0.0   \n",
       "\n",
       "         reservations_attended_boxing_count  \\\n",
       "user_id                                       \n",
       "12                                      0.0   \n",
       "14                                      0.0   \n",
       "15                                      0.0   \n",
       "16                                      0.0   \n",
       "23                                      0.0   \n",
       "\n",
       "         reservations_attended_cycling_count  \\\n",
       "user_id                                        \n",
       "12                                       0.0   \n",
       "14                                       0.0   \n",
       "15                                       0.0   \n",
       "16                                       0.0   \n",
       "23                                       0.0   \n",
       "\n",
       "         reservations_attended_dance_count  reservations_attended_gym_count  \\\n",
       "user_id                                                                       \n",
       "12                                     0.0                              0.0   \n",
       "14                                     0.0                              0.0   \n",
       "15                                     0.0                              0.0   \n",
       "16                                     0.0                              0.0   \n",
       "23                                     1.0                              0.0   \n",
       "\n",
       "         reservations_attended_martial_arts_count  \\\n",
       "user_id                                             \n",
       "12                                            0.0   \n",
       "14                                            0.0   \n",
       "15                                            0.0   \n",
       "16                                            0.0   \n",
       "23                                            0.0   \n",
       "\n",
       "         reservations_attended_pilates_count  \\\n",
       "user_id                                        \n",
       "12                                       0.0   \n",
       "14                                       0.0   \n",
       "15                                       0.0   \n",
       "16                                       0.0   \n",
       "23                                       0.0   \n",
       "\n",
       "         reservations_attended_rowing_count  \\\n",
       "user_id                                       \n",
       "12                                      0.0   \n",
       "14                                      0.0   \n",
       "15                                      0.0   \n",
       "16                                      0.0   \n",
       "23                                      0.0   \n",
       "\n",
       "         reservations_attended_strength_training_count  \\\n",
       "user_id                                                  \n",
       "12                                                 0.0   \n",
       "14                                                 0.0   \n",
       "15                                                 0.0   \n",
       "16                                                 0.0   \n",
       "23                                                 2.0   \n",
       "\n",
       "         reservations_attended_yoga_count  reservations_attended_t1_count  \\\n",
       "user_id                                                                     \n",
       "12                                    0.0                             0.0   \n",
       "14                                    0.0                             0.0   \n",
       "15                                    0.0                             0.0   \n",
       "16                                    0.0                             0.0   \n",
       "23                                    0.0                             0.0   \n",
       "\n",
       "         reservations_attended_t2_count  reservations_attended_t3_count  \\\n",
       "user_id                                                                   \n",
       "12                                  0.0                             0.0   \n",
       "14                                  0.0                             0.0   \n",
       "15                                  0.0                             0.0   \n",
       "16                                  0.0                             0.0   \n",
       "23                                  2.0                             0.0   \n",
       "\n",
       "         reservations_attended_count  reservations_missed_count  \\\n",
       "user_id                                                           \n",
       "12                               0.0                        0.0   \n",
       "14                               0.0                        0.0   \n",
       "15                               0.0                        0.0   \n",
       "16                               0.0                        0.0   \n",
       "23                               2.0                        0.0   \n",
       "\n",
       "         reservations_late_cancelled_count  \\\n",
       "user_id                                      \n",
       "12                                     0.0   \n",
       "14                                     0.0   \n",
       "15                                     0.0   \n",
       "16                                     0.0   \n",
       "23                                     0.0   \n",
       "\n",
       "         cost_of_all_reservations_in_usd_no_tax  \n",
       "user_id                                          \n",
       "12                                          0.0  \n",
       "14                                          0.0  \n",
       "15                                          0.0  \n",
       "16                                          0.0  \n",
       "23                                         25.0  "
      ]
     },
     "execution_count": 15,
     "metadata": {},
     "output_type": "execute_result"
    }
   ],
   "source": [
    "df = df.fillna(0)\n",
    "df.head()"
   ]
  },
  {
   "cell_type": "code",
   "execution_count": 16,
   "metadata": {
    "collapsed": false
   },
   "outputs": [
    {
     "data": {
      "text/plain": [
       "(592322, 41)"
      ]
     },
     "execution_count": 16,
     "metadata": {},
     "output_type": "execute_result"
    }
   ],
   "source": [
    "df.shape"
   ]
  },
  {
   "cell_type": "code",
   "execution_count": 17,
   "metadata": {
    "collapsed": false
   },
   "outputs": [
    {
     "data": {
      "text/plain": [
       "is_converted                                       int64\n",
       "lead_created_month                                 int64\n",
       "lead_created_day_of_week                           int64\n",
       "is_paidsocial_lead                                 int64\n",
       "is_organic_lead                                    int64\n",
       "is_seo_studios                                     int64\n",
       "is_inviteafriend                                   int64\n",
       "is_email                                           int64\n",
       "is_referral                                        int64\n",
       "is_paidsocial                                      int64\n",
       "is_organic                                         int64\n",
       "user_acquisition_month                           float64\n",
       "user_acquisition_day_of_week                     float64\n",
       "promo_days                                       float64\n",
       "lead_to_promo_days                                 int64\n",
       "is_three_studio_visits                             int64\n",
       "is_two_studio_visits                               int64\n",
       "is_four_studio_visits                              int64\n",
       "is_onboarded                                       int64\n",
       "user_country                                     float64\n",
       "user_msa_id                                      float64\n",
       "avg_class_rating                                 float64\n",
       "avg_days_from_booking_to_class                   float64\n",
       "avg_peak_classes                                 float64\n",
       "reservations_attended_barre_count                float64\n",
       "reservations_attended_boxing_count               float64\n",
       "reservations_attended_cycling_count              float64\n",
       "reservations_attended_dance_count                float64\n",
       "reservations_attended_gym_count                  float64\n",
       "reservations_attended_martial_arts_count         float64\n",
       "reservations_attended_pilates_count              float64\n",
       "reservations_attended_rowing_count               float64\n",
       "reservations_attended_strength_training_count    float64\n",
       "reservations_attended_yoga_count                 float64\n",
       "reservations_attended_t1_count                   float64\n",
       "reservations_attended_t2_count                   float64\n",
       "reservations_attended_t3_count                   float64\n",
       "reservations_attended_count                      float64\n",
       "reservations_missed_count                        float64\n",
       "reservations_late_cancelled_count                float64\n",
       "cost_of_all_reservations_in_usd_no_tax           float64\n",
       "dtype: object"
      ]
     },
     "execution_count": 17,
     "metadata": {},
     "output_type": "execute_result"
    }
   ],
   "source": [
    "df.dtypes"
   ]
  },
  {
   "cell_type": "markdown",
   "metadata": {},
   "source": [
    "#### 3) Split Data into X, Y, test & train"
   ]
  },
  {
   "cell_type": "code",
   "execution_count": 18,
   "metadata": {
    "collapsed": true
   },
   "outputs": [],
   "source": [
    "X = df.drop('is_converted', axis=1)\n",
    "y = df['is_converted'].astype(int)"
   ]
  },
  {
   "cell_type": "code",
   "execution_count": 19,
   "metadata": {
    "collapsed": false
   },
   "outputs": [],
   "source": [
    "from sklearn.model_selection import train_test_split\n",
    "X_train, X_test, y_train, y_test = train_test_split(X, y, test_size=0.2)"
   ]
  },
  {
   "cell_type": "markdown",
   "metadata": {},
   "source": [
    "#### 4) Create Calculation for Model Results"
   ]
  },
  {
   "cell_type": "code",
   "execution_count": 20,
   "metadata": {
    "collapsed": true
   },
   "outputs": [],
   "source": [
    "def format_model_results(sklearn_model, X_train, X_test, y_train, y_test):\n",
    "    # Get the model's class name (E.g. LogisticRegression, KNearestNeighbor, etc.) and store it to a string\n",
    "    model_class_name = sklearn_model.__class__.__name__  \n",
    "    \n",
    "    y_test_pred   = sklearn_model.predict(X_test)\n",
    "    y_train_pred  = sklearn_model.predict(X_train)\n",
    "\n",
    "    accuracy_score  = metrics.accuracy_score(y_test, y_test_pred)\n",
    "    precision_score = metrics.precision_score(y_test, y_test_pred, average='binary')\n",
    "    recall_score    = metrics.recall_score(y_test, y_test_pred, average='binary')\n",
    "    f1_score        = metrics.f1_score(y_test, y_test_pred, average='binary')\n",
    "    f1_score_train  = metrics.f1_score(y_train, y_train_pred, average='binary')\n",
    "    \n",
    "    return pd.DataFrame({\n",
    "            \"Accuracy\": accuracy_score, \n",
    "            \"Precision\": precision_score, \n",
    "            \"Recall\": recall_score, \n",
    "            \"F1 score\": f1_score, \n",
    "            \"F1 score (train)\": f1_score_train\n",
    "        }, index=[model_class_name])"
   ]
  },
  {
   "cell_type": "markdown",
   "metadata": {},
   "source": [
    "#### 5) Run Feature Extraction Models\n",
    "##### Model A: Decision Tree Classifier`"
   ]
  },
  {
   "cell_type": "code",
   "execution_count": 21,
   "metadata": {
    "collapsed": false
   },
   "outputs": [],
   "source": [
    "dtc = DecisionTreeClassifier()    \n",
    "dtc.fit(X, y)\n",
    "\n",
    "def build_tree_image(dtc):\n",
    "    dotfile = open(\"tree.dot\", 'w')\n",
    "    export_graphviz(dtc, out_file = dotfile, feature_names = X.columns)\n",
    "    dotfile.close()\n",
    "    os.system(\"dot -Tpng tree.dot -o tree.png\")\n",
    "\n",
    "dtc = DecisionTreeClassifier(\n",
    "                max_depth = 5,\n",
    "                min_samples_leaf = 10)\n",
    "\n",
    "dtc.fit(X, y)\n",
    "build_tree_image(dtc)"
   ]
  },
  {
   "cell_type": "code",
   "execution_count": 22,
   "metadata": {
    "collapsed": false
   },
   "outputs": [],
   "source": [
    "dtc = DecisionTreeClassifier(\n",
    "                max_depth = 5,\n",
    "                min_samples_leaf = 10)\n",
    "\n",
    "dtc.fit(X, y)\n",
    "build_tree_image(dtc)"
   ]
  },
  {
   "cell_type": "code",
   "execution_count": 26,
   "metadata": {
    "collapsed": false
   },
   "outputs": [
    {
     "data": {
      "text/html": [
       "<div>\n",
       "<table border=\"1\" class=\"dataframe\">\n",
       "  <thead>\n",
       "    <tr style=\"text-align: right;\">\n",
       "      <th></th>\n",
       "      <th>Accuracy</th>\n",
       "      <th>F1 score</th>\n",
       "      <th>F1 score (train)</th>\n",
       "      <th>Precision</th>\n",
       "      <th>Recall</th>\n",
       "    </tr>\n",
       "  </thead>\n",
       "  <tbody>\n",
       "    <tr>\n",
       "      <th>DecisionTreeClassifier</th>\n",
       "      <td>0.752518</td>\n",
       "      <td>0.803725</td>\n",
       "      <td>0.804255</td>\n",
       "      <td>0.829778</td>\n",
       "      <td>0.779258</td>\n",
       "    </tr>\n",
       "  </tbody>\n",
       "</table>\n",
       "</div>"
      ],
      "text/plain": [
       "                        Accuracy  F1 score  F1 score (train)  Precision  \\\n",
       "DecisionTreeClassifier  0.752518  0.803725          0.804255   0.829778   \n",
       "\n",
       "                          Recall  \n",
       "DecisionTreeClassifier  0.779258  "
      ]
     },
     "execution_count": 26,
     "metadata": {},
     "output_type": "execute_result"
    }
   ],
   "source": [
    "format_model_results(dtc, X_train, X_test, y_train, y_test)"
   ]
  },
  {
   "cell_type": "markdown",
   "metadata": {},
   "source": [
    "##### Model B: Random Forest Classifier"
   ]
  },
  {
   "cell_type": "code",
   "execution_count": 27,
   "metadata": {
    "collapsed": false
   },
   "outputs": [
    {
     "data": {
      "text/plain": [
       "RandomForestClassifier(bootstrap=True, class_weight=None, criterion='gini',\n",
       "            max_depth=None, max_features='auto', max_leaf_nodes=None,\n",
       "            min_impurity_split=1e-07, min_samples_leaf=1,\n",
       "            min_samples_split=2, min_weight_fraction_leaf=0.0,\n",
       "            n_estimators=30, n_jobs=1, oob_score=False, random_state=None,\n",
       "            verbose=0, warm_start=False)"
      ]
     },
     "execution_count": 27,
     "metadata": {},
     "output_type": "execute_result"
    }
   ],
   "source": [
    "rfc = RandomForestClassifier(n_estimators = 30)\n",
    "rfc.fit(X_train, y_train)"
   ]
  },
  {
   "cell_type": "code",
   "execution_count": 28,
   "metadata": {
    "collapsed": false
   },
   "outputs": [
    {
     "data": {
      "text/html": [
       "<div>\n",
       "<table border=\"1\" class=\"dataframe\">\n",
       "  <thead>\n",
       "    <tr style=\"text-align: right;\">\n",
       "      <th></th>\n",
       "      <th>Accuracy</th>\n",
       "      <th>F1 score</th>\n",
       "      <th>F1 score (train)</th>\n",
       "      <th>Precision</th>\n",
       "      <th>Recall</th>\n",
       "    </tr>\n",
       "  </thead>\n",
       "  <tbody>\n",
       "    <tr>\n",
       "      <th>RandomForestClassifier</th>\n",
       "      <td>0.788993</td>\n",
       "      <td>0.838217</td>\n",
       "      <td>0.995975</td>\n",
       "      <td>0.835799</td>\n",
       "      <td>0.840649</td>\n",
       "    </tr>\n",
       "  </tbody>\n",
       "</table>\n",
       "</div>"
      ],
      "text/plain": [
       "                        Accuracy  F1 score  F1 score (train)  Precision  \\\n",
       "RandomForestClassifier  0.788993  0.838217          0.995975   0.835799   \n",
       "\n",
       "                          Recall  \n",
       "RandomForestClassifier  0.840649  "
      ]
     },
     "execution_count": 28,
     "metadata": {},
     "output_type": "execute_result"
    }
   ],
   "source": [
    "format_model_results(rfc, X_train, X_test, y_train, y_test)"
   ]
  },
  {
   "cell_type": "code",
   "execution_count": 32,
   "metadata": {
    "collapsed": false
   },
   "outputs": [
    {
     "name": "stdout",
     "output_type": "stream",
     "text": [
      "                                         Features  Importance Score\n",
      "12                                     promo_days          0.139555\n",
      "39         cost_of_all_reservations_in_usd_no_tax          0.104098\n",
      "10                         user_acquisition_month          0.065383\n",
      "19                                    user_msa_id          0.047933\n",
      "21                 avg_days_from_booking_to_class          0.047169\n",
      "36                    reservations_attended_count          0.045012\n",
      "0                              lead_created_month          0.043398\n",
      "20                               avg_class_rating          0.042633\n",
      "22                               avg_peak_classes          0.041930\n",
      "9                                      is_organic          0.038926\n",
      "13                             lead_to_promo_days          0.035416\n",
      "11                   user_acquisition_day_of_week          0.032755\n",
      "1                        lead_created_day_of_week          0.030601\n",
      "33                 reservations_attended_t1_count          0.028590\n",
      "31  reservations_attended_strength_training_count          0.020420\n",
      "34                 reservations_attended_t2_count          0.019446\n",
      "32               reservations_attended_yoga_count          0.018100\n",
      "29            reservations_attended_pilates_count          0.016472\n",
      "25            reservations_attended_cycling_count          0.016367\n",
      "17                                   is_onboarded          0.015522\n",
      "23              reservations_attended_barre_count          0.015505\n",
      "14                         is_three_studio_visits          0.015164\n",
      "35                 reservations_attended_t3_count          0.013960\n",
      "15                           is_two_studio_visits          0.012542\n",
      "8                                   is_paidsocial          0.010247\n",
      "26              reservations_attended_dance_count          0.010030\n",
      "3                                 is_organic_lead          0.010017\n",
      "38              reservations_late_cancelled_count          0.008425\n",
      "24             reservations_attended_boxing_count          0.007431\n",
      "7                                     is_referral          0.006915\n",
      "37                      reservations_missed_count          0.006324\n",
      "18                                   user_country          0.006306\n",
      "6                                        is_email          0.006035\n",
      "30             reservations_attended_rowing_count          0.004342\n",
      "2                              is_paidsocial_lead          0.004318\n",
      "28       reservations_attended_martial_arts_count          0.004076\n",
      "27                reservations_attended_gym_count          0.003607\n",
      "5                                is_inviteafriend          0.002733\n",
      "16                          is_four_studio_visits          0.001520\n",
      "4                                  is_seo_studios          0.000777\n"
     ]
    }
   ],
   "source": [
    "features = X.columns\n",
    "feature_importances = rfc.feature_importances_\n",
    "\n",
    "features_rfc = pd.DataFrame({'Features': features, 'Importance Score': feature_importances})\n",
    "features_rfc.sort_values('Importance Score', inplace=True, ascending=False)\n",
    "\n",
    "print features_rfc"
   ]
  },
  {
   "cell_type": "code",
   "execution_count": 33,
   "metadata": {
    "collapsed": false
   },
   "outputs": [
    {
     "name": "stdout",
     "output_type": "stream",
     "text": [
      "CV Accuracy [ 0.6563733   0.47361997  0.3969763 ], Average Accuracy 0.508989853469\n",
      "n trees: 1, CV accuracy [ 0.65974139  0.49753597  0.4140549 ], Average accuracy 0.523777422209\n",
      "n trees: 31, CV accuracy [ 0.65623655  0.47836569  0.42431118], Average accuracy 0.51963780625\n",
      "n trees: 61, CV accuracy [ 0.65600863  0.47687157  0.41374088], Average accuracy 0.515540361831\n",
      "n trees: 91, CV accuracy [ 0.65584149  0.47619795  0.41577188], Average accuracy 0.515937108253\n",
      "n trees: 121, CV accuracy [ 0.65577058  0.47603588  0.41989465], Average accuracy 0.517233705081\n",
      "n trees: 151, CV accuracy [ 0.65580097  0.4761473   0.41867909], Average accuracy 0.516875790201\n",
      "n trees: 181, CV accuracy [ 0.65579084  0.47579783  0.41861325], Average accuracy 0.516733975573\n"
     ]
    }
   ],
   "source": [
    "scores = cross_val_score(rfc, X, y, scoring='accuracy')\n",
    "print('CV Accuracy {}, Average Accuracy {}'.format(scores, scores.mean()))\n",
    "\n",
    "for n_trees in range(1, 211, 30):\n",
    "    model = RandomForestClassifier(n_estimators = n_trees)\n",
    "    scores = cross_val_score(model, X, y, scoring='accuracy')\n",
    "    print('n trees: {}, CV accuracy {}, Average accuracy {}'.format(n_trees, scores, scores.mean()))"
   ]
  },
  {
   "cell_type": "markdown",
   "metadata": {},
   "source": [
    "##### Model C: Extra Trees Classifier"
   ]
  },
  {
   "cell_type": "code",
   "execution_count": 34,
   "metadata": {
    "collapsed": false
   },
   "outputs": [
    {
     "data": {
      "text/plain": [
       "ExtraTreesClassifier(bootstrap=False, class_weight=None, criterion='gini',\n",
       "           max_depth=None, max_features='auto', max_leaf_nodes=None,\n",
       "           min_impurity_split=1e-07, min_samples_leaf=1,\n",
       "           min_samples_split=2, min_weight_fraction_leaf=0.0,\n",
       "           n_estimators=10, n_jobs=1, oob_score=False, random_state=None,\n",
       "           verbose=0, warm_start=False)"
      ]
     },
     "execution_count": 34,
     "metadata": {},
     "output_type": "execute_result"
    }
   ],
   "source": [
    "etc = ExtraTreesClassifier()\n",
    "etc.fit(X, y)"
   ]
  },
  {
   "cell_type": "code",
   "execution_count": 35,
   "metadata": {
    "collapsed": false
   },
   "outputs": [
    {
     "name": "stdout",
     "output_type": "stream",
     "text": [
      "                                               importance\n",
      "feature                                                  \n",
      "promo_days                                          0.083\n",
      "is_organic                                          0.077\n",
      "user_acquisition_month                              0.063\n",
      "avg_class_rating                                    0.052\n",
      "user_msa_id                                         0.047\n",
      "lead_created_month                                  0.043\n",
      "avg_peak_classes                                    0.042\n",
      "is_onboarded                                        0.038\n",
      "cost_of_all_reservations_in_usd_no_tax              0.037\n",
      "user_acquisition_day_of_week                        0.035\n",
      "is_three_studio_visits                              0.035\n",
      "avg_days_from_booking_to_class                      0.033\n",
      "lead_created_day_of_week                            0.032\n",
      "reservations_attended_count                         0.029\n",
      "lead_to_promo_days                                  0.029\n",
      "reservations_attended_t1_count                      0.028\n",
      "reservations_attended_strength_training_count       0.024\n",
      "reservations_attended_t2_count                      0.023\n",
      "reservations_attended_yoga_count                    0.022\n",
      "reservations_attended_cycling_count                 0.021\n",
      "reservations_attended_barre_count                   0.021\n",
      "reservations_attended_pilates_count                 0.020\n",
      "reservations_attended_t3_count                      0.019\n",
      "is_paidsocial                                       0.016\n",
      "reservations_attended_dance_count                   0.015\n",
      "reservations_late_cancelled_count                   0.013\n",
      "is_two_studio_visits                                0.012\n",
      "is_organic_lead                                     0.012\n",
      "reservations_attended_boxing_count                  0.011\n",
      "reservations_missed_count                           0.011\n",
      "is_email                                            0.009\n",
      "reservations_attended_rowing_count                  0.007\n",
      "user_country                                        0.007\n",
      "is_referral                                         0.007\n",
      "is_inviteafriend                                    0.006\n",
      "reservations_attended_martial_arts_count            0.006\n",
      "reservations_attended_gym_count                     0.005\n",
      "is_paidsocial_lead                                  0.004\n",
      "is_four_studio_visits                               0.003\n",
      "is_seo_studios                                      0.001\n"
     ]
    },
    {
     "data": {
      "text/plain": [
       "<matplotlib.axes._subplots.AxesSubplot at 0x11ae12110>"
      ]
     },
     "execution_count": 35,
     "metadata": {},
     "output_type": "execute_result"
    },
    {
     "data": {
      "image/png": "[encoded data removed]",
      "text/plain": [
       "<matplotlib.figure.Figure at 0x104228b90>"
      ]
     },
     "metadata": {},
     "output_type": "display_data"
    }
   ],
   "source": [
    "importances = pd.DataFrame({'feature':X_train.columns,'importance':np.round(etc.feature_importances_,3)})\n",
    "importances = importances.sort_values('importance',ascending=False).set_index('feature')\n",
    "print importances\n",
    "importances.plot.bar()"
   ]
  },
  {
   "cell_type": "code",
   "execution_count": 36,
   "metadata": {
    "collapsed": false
   },
   "outputs": [
    {
     "data": {
      "text/html": [
       "<div>\n",
       "<table border=\"1\" class=\"dataframe\">\n",
       "  <thead>\n",
       "    <tr style=\"text-align: right;\">\n",
       "      <th></th>\n",
       "      <th>Accuracy</th>\n",
       "      <th>F1 score</th>\n",
       "      <th>F1 score (train)</th>\n",
       "      <th>Precision</th>\n",
       "      <th>Recall</th>\n",
       "    </tr>\n",
       "  </thead>\n",
       "  <tbody>\n",
       "    <tr>\n",
       "      <th>ExtraTreesClassifier</th>\n",
       "      <td>0.994606</td>\n",
       "      <td>0.995847</td>\n",
       "      <td>0.996085</td>\n",
       "      <td>0.997162</td>\n",
       "      <td>0.994535</td>\n",
       "    </tr>\n",
       "  </tbody>\n",
       "</table>\n",
       "</div>"
      ],
      "text/plain": [
       "                      Accuracy  F1 score  F1 score (train)  Precision  \\\n",
       "ExtraTreesClassifier  0.994606  0.995847          0.996085   0.997162   \n",
       "\n",
       "                        Recall  \n",
       "ExtraTreesClassifier  0.994535  "
      ]
     },
     "execution_count": 36,
     "metadata": {},
     "output_type": "execute_result"
    }
   ],
   "source": [
    "format_model_results(etc, X_train, X_test, y_train, y_test)"
   ]
  },
  {
   "cell_type": "markdown",
   "metadata": {},
   "source": [
    "#### 6) Drop Variables from Model"
   ]
  },
  {
   "cell_type": "code",
   "execution_count": 37,
   "metadata": {
    "collapsed": true
   },
   "outputs": [],
   "source": [
    "df2 = df[['is_converted','is_organic','promo_days','user_acquisition_month','cost_of_all_reservations_in_usd_no_tax','avg_class_rating','avg_peak_classes','avg_days_from_booking_to_class','user_msa_id','is_onboarded','reservations_attended_count']]"
   ]
  },
  {
   "cell_type": "code",
   "execution_count": 38,
   "metadata": {
    "collapsed": true
   },
   "outputs": [],
   "source": [
    "X = df2.drop('is_converted', axis=1)\n",
    "y = df2['is_converted'].astype(int)\n",
    "\n",
    "from sklearn.model_selection import train_test_split\n",
    "X_train, X_test, y_train, y_test = train_test_split(X, y, test_size=0.2)"
   ]
  },
  {
   "cell_type": "code",
   "execution_count": 39,
   "metadata": {
    "collapsed": false
   },
   "outputs": [
    {
     "data": {
      "text/plain": [
       "(592322, 11)"
      ]
     },
     "execution_count": 39,
     "metadata": {},
     "output_type": "execute_result"
    }
   ],
   "source": [
    "df2.shape"
   ]
  },
  {
   "cell_type": "markdown",
   "metadata": {},
   "source": [
    "#### Rerun Model A: Decision Tree Classifier"
   ]
  },
  {
   "cell_type": "code",
   "execution_count": 40,
   "metadata": {
    "collapsed": false
   },
   "outputs": [
    {
     "data": {
      "text/html": [
       "<div>\n",
       "<table border=\"1\" class=\"dataframe\">\n",
       "  <thead>\n",
       "    <tr style=\"text-align: right;\">\n",
       "      <th></th>\n",
       "      <th>Accuracy</th>\n",
       "      <th>F1 score</th>\n",
       "      <th>F1 score (train)</th>\n",
       "      <th>Precision</th>\n",
       "      <th>Recall</th>\n",
       "    </tr>\n",
       "  </thead>\n",
       "  <tbody>\n",
       "    <tr>\n",
       "      <th>DecisionTreeClassifier</th>\n",
       "      <td>0.752881</td>\n",
       "      <td>0.811706</td>\n",
       "      <td>0.812486</td>\n",
       "      <td>0.80237</td>\n",
       "      <td>0.821262</td>\n",
       "    </tr>\n",
       "  </tbody>\n",
       "</table>\n",
       "</div>"
      ],
      "text/plain": [
       "                        Accuracy  F1 score  F1 score (train)  Precision  \\\n",
       "DecisionTreeClassifier  0.752881  0.811706          0.812486    0.80237   \n",
       "\n",
       "                          Recall  \n",
       "DecisionTreeClassifier  0.821262  "
      ]
     },
     "execution_count": 40,
     "metadata": {},
     "output_type": "execute_result"
    }
   ],
   "source": [
    "dtc = DecisionTreeClassifier( max_depth = 5, min_samples_leaf = 10)\n",
    "\n",
    "dtc.fit(X, y)\n",
    "build_tree_image(dtc)\n",
    "\n",
    "format_model_results(dtc, X_train, X_test, y_train, y_test)"
   ]
  },
  {
   "cell_type": "markdown",
   "metadata": {},
   "source": [
    "#### Rerun Model B: Random Forest Classifier"
   ]
  },
  {
   "cell_type": "code",
   "execution_count": 41,
   "metadata": {
    "collapsed": false
   },
   "outputs": [
    {
     "data": {
      "text/html": [
       "<div>\n",
       "<table border=\"1\" class=\"dataframe\">\n",
       "  <thead>\n",
       "    <tr style=\"text-align: right;\">\n",
       "      <th></th>\n",
       "      <th>Accuracy</th>\n",
       "      <th>F1 score</th>\n",
       "      <th>F1 score (train)</th>\n",
       "      <th>Precision</th>\n",
       "      <th>Recall</th>\n",
       "    </tr>\n",
       "  </thead>\n",
       "  <tbody>\n",
       "    <tr>\n",
       "      <th>RandomForestClassifier</th>\n",
       "      <td>0.773697</td>\n",
       "      <td>0.82655</td>\n",
       "      <td>0.984566</td>\n",
       "      <td>0.821781</td>\n",
       "      <td>0.831375</td>\n",
       "    </tr>\n",
       "  </tbody>\n",
       "</table>\n",
       "</div>"
      ],
      "text/plain": [
       "                        Accuracy  F1 score  F1 score (train)  Precision  \\\n",
       "RandomForestClassifier  0.773697   0.82655          0.984566   0.821781   \n",
       "\n",
       "                          Recall  \n",
       "RandomForestClassifier  0.831375  "
      ]
     },
     "execution_count": 41,
     "metadata": {},
     "output_type": "execute_result"
    }
   ],
   "source": [
    "rfc = RandomForestClassifier(n_estimators = 30)\n",
    "rfc.fit(X_train, y_train)\n",
    "\n",
    "format_model_results(rfc, X_train, X_test, y_train, y_test)"
   ]
  },
  {
   "cell_type": "markdown",
   "metadata": {},
   "source": [
    "#### Rerun Model C: Extra Trees Classifier"
   ]
  },
  {
   "cell_type": "code",
   "execution_count": 42,
   "metadata": {
    "collapsed": false
   },
   "outputs": [
    {
     "data": {
      "text/html": [
       "<div>\n",
       "<table border=\"1\" class=\"dataframe\">\n",
       "  <thead>\n",
       "    <tr style=\"text-align: right;\">\n",
       "      <th></th>\n",
       "      <th>Accuracy</th>\n",
       "      <th>F1 score</th>\n",
       "      <th>F1 score (train)</th>\n",
       "      <th>Precision</th>\n",
       "      <th>Recall</th>\n",
       "    </tr>\n",
       "  </thead>\n",
       "  <tbody>\n",
       "    <tr>\n",
       "      <th>ExtraTreesClassifier</th>\n",
       "      <td>0.980121</td>\n",
       "      <td>0.98462</td>\n",
       "      <td>0.984576</td>\n",
       "      <td>0.98815</td>\n",
       "      <td>0.981115</td>\n",
       "    </tr>\n",
       "  </tbody>\n",
       "</table>\n",
       "</div>"
      ],
      "text/plain": [
       "                      Accuracy  F1 score  F1 score (train)  Precision  \\\n",
       "ExtraTreesClassifier  0.980121   0.98462          0.984576    0.98815   \n",
       "\n",
       "                        Recall  \n",
       "ExtraTreesClassifier  0.981115  "
      ]
     },
     "execution_count": 42,
     "metadata": {},
     "output_type": "execute_result"
    }
   ],
   "source": [
    "etc = ExtraTreesClassifier()\n",
    "etc.fit(X, y)\n",
    "\n",
    "format_model_results(etc, X_train, X_test, y_train, y_test)"
   ]
  },
  {
   "cell_type": "markdown",
   "metadata": {},
   "source": [
    "#### Run Model D: Logistic Regression"
   ]
  },
  {
   "cell_type": "code",
   "execution_count": 43,
   "metadata": {
    "collapsed": true
   },
   "outputs": [],
   "source": [
    "# transform features\n",
    "stdsc = StandardScaler()\n",
    "X_train_std = stdsc.fit_transform(X_train)\n",
    "X_test_std = stdsc.transform(X_test)\n",
    "logreg = LogisticRegression(penalty='l2', C=10)"
   ]
  },
  {
   "cell_type": "code",
   "execution_count": 44,
   "metadata": {
    "collapsed": false
   },
   "outputs": [
    {
     "data": {
      "text/plain": [
       "[('is_organic', 1.2986877454433889),\n",
       " ('promo_days', -0.23458349064311856),\n",
       " ('user_acquisition_month', 0.37252203633101438),\n",
       " ('cost_of_all_reservations_in_usd_no_tax', 0.09299577827507978),\n",
       " ('avg_class_rating', -0.25397819562592178),\n",
       " ('avg_peak_classes', -0.1344263838144254),\n",
       " ('avg_days_from_booking_to_class', -0.11342943195794845),\n",
       " ('user_msa_id', -0.1169395759419297),\n",
       " ('is_onboarded', 0.34921703667015908),\n",
       " ('reservations_attended_count', 0.60696404510292234)]"
      ]
     },
     "execution_count": 44,
     "metadata": {},
     "output_type": "execute_result"
    }
   ],
   "source": [
    "logreg.fit(X_train_std, y_train)\n",
    "zip(X, logreg.coef_[0])"
   ]
  },
  {
   "cell_type": "code",
   "execution_count": 45,
   "metadata": {
    "collapsed": true
   },
   "outputs": [],
   "source": [
    "# class predictions\n",
    "y_pred_class = logreg.predict(X_test_std)"
   ]
  },
  {
   "cell_type": "code",
   "execution_count": 46,
   "metadata": {
    "collapsed": false
   },
   "outputs": [
    {
     "data": {
      "text/html": [
       "<div>\n",
       "<table border=\"1\" class=\"dataframe\">\n",
       "  <thead>\n",
       "    <tr style=\"text-align: right;\">\n",
       "      <th></th>\n",
       "      <th>Accuracy</th>\n",
       "      <th>F1 score</th>\n",
       "      <th>F1 score (train)</th>\n",
       "      <th>Precision</th>\n",
       "      <th>Recall</th>\n",
       "    </tr>\n",
       "  </thead>\n",
       "  <tbody>\n",
       "    <tr>\n",
       "      <th>LogisticRegression</th>\n",
       "      <td>0.718643</td>\n",
       "      <td>0.793054</td>\n",
       "      <td>0.793085</td>\n",
       "      <td>0.75824</td>\n",
       "      <td>0.831218</td>\n",
       "    </tr>\n",
       "  </tbody>\n",
       "</table>\n",
       "</div>"
      ],
      "text/plain": [
       "                    Accuracy  F1 score  F1 score (train)  Precision    Recall\n",
       "LogisticRegression  0.718643  0.793054          0.793085    0.75824  0.831218"
      ]
     },
     "execution_count": 46,
     "metadata": {},
     "output_type": "execute_result"
    }
   ],
   "source": [
    "format_model_results(logreg, X_train, X_test, y_train, y_test)"
   ]
  },
  {
   "cell_type": "markdown",
   "metadata": {
    "collapsed": false
   },
   "source": [
    "#### Run Model E: K Nearest Neighbors"
   ]
  },
  {
   "cell_type": "code",
   "execution_count": 47,
   "metadata": {
    "collapsed": false
   },
   "outputs": [
    {
     "name": "stdout",
     "output_type": "stream",
     "text": [
      "[ 0.76691801  0.76670275  0.76671879]\n"
     ]
    }
   ],
   "source": [
    "cv = ShuffleSplit(n_splits=5, test_size=0.3, random_state=0)\n",
    "\n",
    "knn = KNeighborsClassifier(n_neighbors=15,weights='uniform', p=2)\n",
    "score = cross_val_score(knn, X_train_std, y_train, scoring='accuracy')\n",
    "print score"
   ]
  },
  {
   "cell_type": "code",
   "execution_count": 48,
   "metadata": {
    "collapsed": false
   },
   "outputs": [
    {
     "data": {
      "text/plain": [
       "KNeighborsClassifier(algorithm='auto', leaf_size=30, metric='minkowski',\n",
       "           metric_params=None, n_jobs=1, n_neighbors=15, p=2,\n",
       "           weights='uniform')"
      ]
     },
     "execution_count": 48,
     "metadata": {},
     "output_type": "execute_result"
    }
   ],
   "source": [
    "knn.fit(X, y)"
   ]
  },
  {
   "cell_type": "code",
   "execution_count": 49,
   "metadata": {
    "collapsed": false
   },
   "outputs": [
    {
     "data": {
      "text/html": [
       "<div>\n",
       "<table border=\"1\" class=\"dataframe\">\n",
       "  <thead>\n",
       "    <tr style=\"text-align: right;\">\n",
       "      <th></th>\n",
       "      <th>Accuracy</th>\n",
       "      <th>F1 score</th>\n",
       "      <th>F1 score (train)</th>\n",
       "      <th>Precision</th>\n",
       "      <th>Recall</th>\n",
       "    </tr>\n",
       "  </thead>\n",
       "  <tbody>\n",
       "    <tr>\n",
       "      <th>KNeighborsClassifier</th>\n",
       "      <td>0.650766</td>\n",
       "      <td>0.784384</td>\n",
       "      <td>0.785428</td>\n",
       "      <td>0.654118</td>\n",
       "      <td>0.979436</td>\n",
       "    </tr>\n",
       "  </tbody>\n",
       "</table>\n",
       "</div>"
      ],
      "text/plain": [
       "                      Accuracy  F1 score  F1 score (train)  Precision  \\\n",
       "KNeighborsClassifier  0.650766  0.784384          0.785428   0.654118   \n",
       "\n",
       "                        Recall  \n",
       "KNeighborsClassifier  0.979436  "
      ]
     },
     "execution_count": 49,
     "metadata": {},
     "output_type": "execute_result"
    }
   ],
   "source": [
    "format_model_results(knn, X_train_std, X_test_std, y_train, y_test)"
   ]
  },
  {
   "cell_type": "code",
   "execution_count": null,
   "metadata": {
    "collapsed": true
   },
   "outputs": [],
   "source": []
  }
 ],
 "metadata": {
  "anaconda-cloud": {},
  "kernelspec": {
   "display_name": "Python [conda root]",
   "language": "python",
   "name": "conda-root-py"
  },
  "language_info": {
   "codemirror_mode": {
    "name": "ipython",
    "version": 2
   },
   "file_extension": ".py",
   "mimetype": "text/x-python",
   "name": "python",
   "nbconvert_exporter": "python",
   "pygments_lexer": "ipython2",
   "version": "2.7.12"
  }
 },
 "nbformat": 4,
 "nbformat_minor": 1
}
