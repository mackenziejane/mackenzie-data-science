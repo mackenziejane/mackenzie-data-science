{
 "cells": [
  {
   "cell_type": "markdown",
   "metadata": {},
   "source": [
    "# DS-NYC-45 | Final Project 4: Modeling Performance"
   ]
  },
  {
   "cell_type": "markdown",
   "metadata": {},
   "source": [
    "#### 1) Load Relevant Libraries and Data"
   ]
  },
  {
   "cell_type": "code",
   "execution_count": 1,
   "metadata": {
    "collapsed": false
   },
   "outputs": [],
   "source": [
    "import os\n",
    "import pandas as pd\n",
    "import numpy as np\n",
    "import matplotlib.pyplot as plt\n",
    "import seaborn as sns\n",
    "import statsmodels.api as sm\n",
    "import sklearn as skl\n",
    "from sklearn import ensemble, metrics\n",
    "from sklearn.tree import DecisionTreeClassifier, export_graphviz\n",
    "from sklearn.ensemble import RandomForestRegressor,ExtraTreesClassifier, RandomForestClassifier\n",
    "from sklearn.linear_model import LinearRegression, LogisticRegression, RidgeCV\n",
    "from sklearn.preprocessing import StandardScaler\n",
    "from sklearn.neighbors import KNeighborsClassifier\n",
    "from sklearn.model_selection import ShuffleSplit, cross_val_score,train_test_split\n",
    "\n",
    "pd.set_option('display.max_rows', 1000)\n",
    "pd.set_option('display.max_columns', 100)\n",
    "pd.set_option('display.notebook_repr_html', True)\n",
    "\n",
    "%matplotlib inline\n",
    "plt.style.use('ggplot')"
   ]
  },
  {
   "cell_type": "code",
   "execution_count": 2,
   "metadata": {
    "collapsed": false
   },
   "outputs": [],
   "source": [
    "users = pd.read_csv(os.path.join('project_dataset', 'user_data.csv'), index_col='user_id')\n",
    "res = pd.read_csv(os.path.join('project_dataset', 'reservations_data.csv'), index_col='user_id')"
   ]
  },
  {
   "cell_type": "markdown",
   "metadata": {},
   "source": [
    "#### 2) Combine & Clean Data"
   ]
  },
  {
   "cell_type": "code",
   "execution_count": 3,
   "metadata": {
    "collapsed": false
   },
   "outputs": [],
   "source": [
    "df = pd.concat([users, res], axis=1, join_axes=[users.index])"
   ]
  },
  {
   "cell_type": "code",
   "execution_count": 4,
   "metadata": {
    "collapsed": false
   },
   "outputs": [
    {
     "data": {
      "text/html": [
       "<div>\n",
       "<table border=\"1\" class=\"dataframe\">\n",
       "  <thead>\n",
       "    <tr style=\"text-align: right;\">\n",
       "      <th></th>\n",
       "      <th>is_converted</th>\n",
       "      <th>lead_created_month</th>\n",
       "      <th>lead_created_day_of_week</th>\n",
       "      <th>is_paidsocial_lead</th>\n",
       "      <th>is_organic_lead</th>\n",
       "      <th>is_seo_studios</th>\n",
       "      <th>is_inviteafriend</th>\n",
       "      <th>is_email</th>\n",
       "      <th>is_referral</th>\n",
       "      <th>is_paidsocial</th>\n",
       "      <th>is_organic</th>\n",
       "      <th>user_acquisition_month</th>\n",
       "      <th>user_acquisition_day_of_week</th>\n",
       "      <th>promo_days</th>\n",
       "      <th>lead_to_promo_days</th>\n",
       "      <th>is_three_studio_visits</th>\n",
       "      <th>is_two_studio_visits</th>\n",
       "      <th>is_four_studio_visits</th>\n",
       "      <th>is_onboarded</th>\n",
       "      <th>user_country</th>\n",
       "      <th>user_msa_id</th>\n",
       "      <th>avg_class_rating</th>\n",
       "      <th>avg_days_from_booking_to_class</th>\n",
       "      <th>avg_peak_classes</th>\n",
       "      <th>reservations_attended_barre_count</th>\n",
       "      <th>reservations_attended_boxing_count</th>\n",
       "      <th>reservations_attended_cycling_count</th>\n",
       "      <th>reservations_attended_dance_count</th>\n",
       "      <th>reservations_attended_gym_count</th>\n",
       "      <th>reservations_attended_martial_arts_count</th>\n",
       "      <th>reservations_attended_pilates_count</th>\n",
       "      <th>reservations_attended_rowing_count</th>\n",
       "      <th>reservations_attended_strength_training_count</th>\n",
       "      <th>reservations_attended_yoga_count</th>\n",
       "      <th>reservations_attended_t1_count</th>\n",
       "      <th>reservations_attended_t2_count</th>\n",
       "      <th>reservations_attended_t3_count</th>\n",
       "      <th>reservations_attended_count</th>\n",
       "      <th>reservations_missed_count</th>\n",
       "      <th>reservations_late_cancelled_count</th>\n",
       "      <th>cost_of_all_reservations_in_usd_no_tax</th>\n",
       "      <th>distinct_venues_count</th>\n",
       "    </tr>\n",
       "    <tr>\n",
       "      <th>user_id</th>\n",
       "      <th></th>\n",
       "      <th></th>\n",
       "      <th></th>\n",
       "      <th></th>\n",
       "      <th></th>\n",
       "      <th></th>\n",
       "      <th></th>\n",
       "      <th></th>\n",
       "      <th></th>\n",
       "      <th></th>\n",
       "      <th></th>\n",
       "      <th></th>\n",
       "      <th></th>\n",
       "      <th></th>\n",
       "      <th></th>\n",
       "      <th></th>\n",
       "      <th></th>\n",
       "      <th></th>\n",
       "      <th></th>\n",
       "      <th></th>\n",
       "      <th></th>\n",
       "      <th></th>\n",
       "      <th></th>\n",
       "      <th></th>\n",
       "      <th></th>\n",
       "      <th></th>\n",
       "      <th></th>\n",
       "      <th></th>\n",
       "      <th></th>\n",
       "      <th></th>\n",
       "      <th></th>\n",
       "      <th></th>\n",
       "      <th></th>\n",
       "      <th></th>\n",
       "      <th></th>\n",
       "      <th></th>\n",
       "      <th></th>\n",
       "      <th></th>\n",
       "      <th></th>\n",
       "      <th></th>\n",
       "      <th></th>\n",
       "      <th></th>\n",
       "    </tr>\n",
       "  </thead>\n",
       "  <tbody>\n",
       "    <tr>\n",
       "      <th>12</th>\n",
       "      <td>0</td>\n",
       "      <td>5</td>\n",
       "      <td>4</td>\n",
       "      <td>0</td>\n",
       "      <td>1</td>\n",
       "      <td>0</td>\n",
       "      <td>0</td>\n",
       "      <td>0</td>\n",
       "      <td>0</td>\n",
       "      <td>0</td>\n",
       "      <td>1</td>\n",
       "      <td>9.0</td>\n",
       "      <td>3.0</td>\n",
       "      <td>0.0</td>\n",
       "      <td>0</td>\n",
       "      <td>1</td>\n",
       "      <td>0</td>\n",
       "      <td>0</td>\n",
       "      <td>1</td>\n",
       "      <td>1.0</td>\n",
       "      <td>1.0</td>\n",
       "      <td>0.0</td>\n",
       "      <td>0.00</td>\n",
       "      <td>0.00</td>\n",
       "      <td>0.0</td>\n",
       "      <td>0.0</td>\n",
       "      <td>0.0</td>\n",
       "      <td>0.0</td>\n",
       "      <td>0.0</td>\n",
       "      <td>0.0</td>\n",
       "      <td>0.0</td>\n",
       "      <td>0.0</td>\n",
       "      <td>0.0</td>\n",
       "      <td>0.0</td>\n",
       "      <td>0.0</td>\n",
       "      <td>0.0</td>\n",
       "      <td>0.0</td>\n",
       "      <td>0.0</td>\n",
       "      <td>0.0</td>\n",
       "      <td>0.0</td>\n",
       "      <td>0.0</td>\n",
       "      <td>0.0</td>\n",
       "    </tr>\n",
       "    <tr>\n",
       "      <th>14</th>\n",
       "      <td>0</td>\n",
       "      <td>5</td>\n",
       "      <td>5</td>\n",
       "      <td>0</td>\n",
       "      <td>1</td>\n",
       "      <td>0</td>\n",
       "      <td>0</td>\n",
       "      <td>0</td>\n",
       "      <td>0</td>\n",
       "      <td>0</td>\n",
       "      <td>1</td>\n",
       "      <td>9.0</td>\n",
       "      <td>3.0</td>\n",
       "      <td>0.0</td>\n",
       "      <td>0</td>\n",
       "      <td>1</td>\n",
       "      <td>0</td>\n",
       "      <td>0</td>\n",
       "      <td>1</td>\n",
       "      <td>1.0</td>\n",
       "      <td>1.0</td>\n",
       "      <td>0.0</td>\n",
       "      <td>0.00</td>\n",
       "      <td>0.00</td>\n",
       "      <td>0.0</td>\n",
       "      <td>0.0</td>\n",
       "      <td>0.0</td>\n",
       "      <td>0.0</td>\n",
       "      <td>0.0</td>\n",
       "      <td>0.0</td>\n",
       "      <td>0.0</td>\n",
       "      <td>0.0</td>\n",
       "      <td>0.0</td>\n",
       "      <td>0.0</td>\n",
       "      <td>0.0</td>\n",
       "      <td>0.0</td>\n",
       "      <td>0.0</td>\n",
       "      <td>0.0</td>\n",
       "      <td>0.0</td>\n",
       "      <td>0.0</td>\n",
       "      <td>0.0</td>\n",
       "      <td>0.0</td>\n",
       "    </tr>\n",
       "    <tr>\n",
       "      <th>15</th>\n",
       "      <td>1</td>\n",
       "      <td>6</td>\n",
       "      <td>1</td>\n",
       "      <td>0</td>\n",
       "      <td>1</td>\n",
       "      <td>0</td>\n",
       "      <td>0</td>\n",
       "      <td>0</td>\n",
       "      <td>0</td>\n",
       "      <td>0</td>\n",
       "      <td>1</td>\n",
       "      <td>9.0</td>\n",
       "      <td>1.0</td>\n",
       "      <td>0.0</td>\n",
       "      <td>0</td>\n",
       "      <td>0</td>\n",
       "      <td>1</td>\n",
       "      <td>0</td>\n",
       "      <td>1</td>\n",
       "      <td>1.0</td>\n",
       "      <td>1.0</td>\n",
       "      <td>0.0</td>\n",
       "      <td>0.00</td>\n",
       "      <td>0.00</td>\n",
       "      <td>0.0</td>\n",
       "      <td>0.0</td>\n",
       "      <td>0.0</td>\n",
       "      <td>0.0</td>\n",
       "      <td>0.0</td>\n",
       "      <td>0.0</td>\n",
       "      <td>0.0</td>\n",
       "      <td>0.0</td>\n",
       "      <td>0.0</td>\n",
       "      <td>0.0</td>\n",
       "      <td>0.0</td>\n",
       "      <td>0.0</td>\n",
       "      <td>0.0</td>\n",
       "      <td>0.0</td>\n",
       "      <td>0.0</td>\n",
       "      <td>0.0</td>\n",
       "      <td>0.0</td>\n",
       "      <td>0.0</td>\n",
       "    </tr>\n",
       "    <tr>\n",
       "      <th>16</th>\n",
       "      <td>1</td>\n",
       "      <td>7</td>\n",
       "      <td>3</td>\n",
       "      <td>0</td>\n",
       "      <td>1</td>\n",
       "      <td>0</td>\n",
       "      <td>0</td>\n",
       "      <td>0</td>\n",
       "      <td>0</td>\n",
       "      <td>0</td>\n",
       "      <td>1</td>\n",
       "      <td>8.0</td>\n",
       "      <td>4.0</td>\n",
       "      <td>0.0</td>\n",
       "      <td>0</td>\n",
       "      <td>1</td>\n",
       "      <td>0</td>\n",
       "      <td>0</td>\n",
       "      <td>1</td>\n",
       "      <td>1.0</td>\n",
       "      <td>1.0</td>\n",
       "      <td>0.0</td>\n",
       "      <td>0.00</td>\n",
       "      <td>0.00</td>\n",
       "      <td>0.0</td>\n",
       "      <td>0.0</td>\n",
       "      <td>0.0</td>\n",
       "      <td>0.0</td>\n",
       "      <td>0.0</td>\n",
       "      <td>0.0</td>\n",
       "      <td>0.0</td>\n",
       "      <td>0.0</td>\n",
       "      <td>0.0</td>\n",
       "      <td>0.0</td>\n",
       "      <td>0.0</td>\n",
       "      <td>0.0</td>\n",
       "      <td>0.0</td>\n",
       "      <td>0.0</td>\n",
       "      <td>0.0</td>\n",
       "      <td>0.0</td>\n",
       "      <td>0.0</td>\n",
       "      <td>0.0</td>\n",
       "    </tr>\n",
       "    <tr>\n",
       "      <th>23</th>\n",
       "      <td>1</td>\n",
       "      <td>6</td>\n",
       "      <td>1</td>\n",
       "      <td>0</td>\n",
       "      <td>1</td>\n",
       "      <td>0</td>\n",
       "      <td>0</td>\n",
       "      <td>0</td>\n",
       "      <td>0</td>\n",
       "      <td>0</td>\n",
       "      <td>0</td>\n",
       "      <td>8.0</td>\n",
       "      <td>3.0</td>\n",
       "      <td>30.0</td>\n",
       "      <td>429</td>\n",
       "      <td>0</td>\n",
       "      <td>1</td>\n",
       "      <td>0</td>\n",
       "      <td>1</td>\n",
       "      <td>1.0</td>\n",
       "      <td>1.0</td>\n",
       "      <td>5.0</td>\n",
       "      <td>1.25</td>\n",
       "      <td>0.75</td>\n",
       "      <td>0.0</td>\n",
       "      <td>0.0</td>\n",
       "      <td>0.0</td>\n",
       "      <td>1.0</td>\n",
       "      <td>0.0</td>\n",
       "      <td>0.0</td>\n",
       "      <td>0.0</td>\n",
       "      <td>0.0</td>\n",
       "      <td>2.0</td>\n",
       "      <td>0.0</td>\n",
       "      <td>0.0</td>\n",
       "      <td>2.0</td>\n",
       "      <td>0.0</td>\n",
       "      <td>2.0</td>\n",
       "      <td>0.0</td>\n",
       "      <td>0.0</td>\n",
       "      <td>25.0</td>\n",
       "      <td>2.0</td>\n",
       "    </tr>\n",
       "  </tbody>\n",
       "</table>\n",
       "</div>"
      ],
      "text/plain": [
       "         is_converted  lead_created_month  lead_created_day_of_week  \\\n",
       "user_id                                                               \n",
       "12                  0                   5                         4   \n",
       "14                  0                   5                         5   \n",
       "15                  1                   6                         1   \n",
       "16                  1                   7                         3   \n",
       "23                  1                   6                         1   \n",
       "\n",
       "         is_paidsocial_lead  is_organic_lead  is_seo_studios  \\\n",
       "user_id                                                        \n",
       "12                        0                1               0   \n",
       "14                        0                1               0   \n",
       "15                        0                1               0   \n",
       "16                        0                1               0   \n",
       "23                        0                1               0   \n",
       "\n",
       "         is_inviteafriend  is_email  is_referral  is_paidsocial  is_organic  \\\n",
       "user_id                                                                       \n",
       "12                      0         0            0              0           1   \n",
       "14                      0         0            0              0           1   \n",
       "15                      0         0            0              0           1   \n",
       "16                      0         0            0              0           1   \n",
       "23                      0         0            0              0           0   \n",
       "\n",
       "         user_acquisition_month  user_acquisition_day_of_week  promo_days  \\\n",
       "user_id                                                                     \n",
       "12                          9.0                           3.0         0.0   \n",
       "14                          9.0                           3.0         0.0   \n",
       "15                          9.0                           1.0         0.0   \n",
       "16                          8.0                           4.0         0.0   \n",
       "23                          8.0                           3.0        30.0   \n",
       "\n",
       "         lead_to_promo_days  is_three_studio_visits  is_two_studio_visits  \\\n",
       "user_id                                                                     \n",
       "12                        0                       1                     0   \n",
       "14                        0                       1                     0   \n",
       "15                        0                       0                     1   \n",
       "16                        0                       1                     0   \n",
       "23                      429                       0                     1   \n",
       "\n",
       "         is_four_studio_visits  is_onboarded  user_country  user_msa_id  \\\n",
       "user_id                                                                   \n",
       "12                           0             1           1.0          1.0   \n",
       "14                           0             1           1.0          1.0   \n",
       "15                           0             1           1.0          1.0   \n",
       "16                           0             1           1.0          1.0   \n",
       "23                           0             1           1.0          1.0   \n",
       "\n",
       "         avg_class_rating  avg_days_from_booking_to_class  avg_peak_classes  \\\n",
       "user_id                                                                       \n",
       "12                    0.0                            0.00              0.00   \n",
       "14                    0.0                            0.00              0.00   \n",
       "15                    0.0                            0.00              0.00   \n",
       "16                    0.0                            0.00              0.00   \n",
       "23                    5.0                            1.25              0.75   \n",
       "\n",
       "         reservations_attended_barre_count  \\\n",
       "user_id                                      \n",
       "12                                     0.0   \n",
       "14                                     0.0   \n",
       "15                                     0.0   \n",
       "16                                     0.0   \n",
       "23                                     0.0   \n",
       "\n",
       "         reservations_attended_boxing_count  \\\n",
       "user_id                                       \n",
       "12                                      0.0   \n",
       "14                                      0.0   \n",
       "15                                      0.0   \n",
       "16                                      0.0   \n",
       "23                                      0.0   \n",
       "\n",
       "         reservations_attended_cycling_count  \\\n",
       "user_id                                        \n",
       "12                                       0.0   \n",
       "14                                       0.0   \n",
       "15                                       0.0   \n",
       "16                                       0.0   \n",
       "23                                       0.0   \n",
       "\n",
       "         reservations_attended_dance_count  reservations_attended_gym_count  \\\n",
       "user_id                                                                       \n",
       "12                                     0.0                              0.0   \n",
       "14                                     0.0                              0.0   \n",
       "15                                     0.0                              0.0   \n",
       "16                                     0.0                              0.0   \n",
       "23                                     1.0                              0.0   \n",
       "\n",
       "         reservations_attended_martial_arts_count  \\\n",
       "user_id                                             \n",
       "12                                            0.0   \n",
       "14                                            0.0   \n",
       "15                                            0.0   \n",
       "16                                            0.0   \n",
       "23                                            0.0   \n",
       "\n",
       "         reservations_attended_pilates_count  \\\n",
       "user_id                                        \n",
       "12                                       0.0   \n",
       "14                                       0.0   \n",
       "15                                       0.0   \n",
       "16                                       0.0   \n",
       "23                                       0.0   \n",
       "\n",
       "         reservations_attended_rowing_count  \\\n",
       "user_id                                       \n",
       "12                                      0.0   \n",
       "14                                      0.0   \n",
       "15                                      0.0   \n",
       "16                                      0.0   \n",
       "23                                      0.0   \n",
       "\n",
       "         reservations_attended_strength_training_count  \\\n",
       "user_id                                                  \n",
       "12                                                 0.0   \n",
       "14                                                 0.0   \n",
       "15                                                 0.0   \n",
       "16                                                 0.0   \n",
       "23                                                 2.0   \n",
       "\n",
       "         reservations_attended_yoga_count  reservations_attended_t1_count  \\\n",
       "user_id                                                                     \n",
       "12                                    0.0                             0.0   \n",
       "14                                    0.0                             0.0   \n",
       "15                                    0.0                             0.0   \n",
       "16                                    0.0                             0.0   \n",
       "23                                    0.0                             0.0   \n",
       "\n",
       "         reservations_attended_t2_count  reservations_attended_t3_count  \\\n",
       "user_id                                                                   \n",
       "12                                  0.0                             0.0   \n",
       "14                                  0.0                             0.0   \n",
       "15                                  0.0                             0.0   \n",
       "16                                  0.0                             0.0   \n",
       "23                                  2.0                             0.0   \n",
       "\n",
       "         reservations_attended_count  reservations_missed_count  \\\n",
       "user_id                                                           \n",
       "12                               0.0                        0.0   \n",
       "14                               0.0                        0.0   \n",
       "15                               0.0                        0.0   \n",
       "16                               0.0                        0.0   \n",
       "23                               2.0                        0.0   \n",
       "\n",
       "         reservations_late_cancelled_count  \\\n",
       "user_id                                      \n",
       "12                                     0.0   \n",
       "14                                     0.0   \n",
       "15                                     0.0   \n",
       "16                                     0.0   \n",
       "23                                     0.0   \n",
       "\n",
       "         cost_of_all_reservations_in_usd_no_tax  distinct_venues_count  \n",
       "user_id                                                                 \n",
       "12                                          0.0                    0.0  \n",
       "14                                          0.0                    0.0  \n",
       "15                                          0.0                    0.0  \n",
       "16                                          0.0                    0.0  \n",
       "23                                         25.0                    2.0  "
      ]
     },
     "execution_count": 4,
     "metadata": {},
     "output_type": "execute_result"
    }
   ],
   "source": [
    "df = df.fillna(0)\n",
    "df.head()"
   ]
  },
  {
   "cell_type": "code",
   "execution_count": 5,
   "metadata": {
    "collapsed": false
   },
   "outputs": [
    {
     "data": {
      "text/plain": [
       "(592322, 42)"
      ]
     },
     "execution_count": 5,
     "metadata": {},
     "output_type": "execute_result"
    }
   ],
   "source": [
    "df.shape"
   ]
  },
  {
   "cell_type": "code",
   "execution_count": 6,
   "metadata": {
    "collapsed": false
   },
   "outputs": [
    {
     "data": {
      "text/plain": [
       "is_converted                                       int64\n",
       "lead_created_month                                 int64\n",
       "lead_created_day_of_week                           int64\n",
       "is_paidsocial_lead                                 int64\n",
       "is_organic_lead                                    int64\n",
       "is_seo_studios                                     int64\n",
       "is_inviteafriend                                   int64\n",
       "is_email                                           int64\n",
       "is_referral                                        int64\n",
       "is_paidsocial                                      int64\n",
       "is_organic                                         int64\n",
       "user_acquisition_month                           float64\n",
       "user_acquisition_day_of_week                     float64\n",
       "promo_days                                       float64\n",
       "lead_to_promo_days                                 int64\n",
       "is_three_studio_visits                             int64\n",
       "is_two_studio_visits                               int64\n",
       "is_four_studio_visits                              int64\n",
       "is_onboarded                                       int64\n",
       "user_country                                     float64\n",
       "user_msa_id                                      float64\n",
       "avg_class_rating                                 float64\n",
       "avg_days_from_booking_to_class                   float64\n",
       "avg_peak_classes                                 float64\n",
       "reservations_attended_barre_count                float64\n",
       "reservations_attended_boxing_count               float64\n",
       "reservations_attended_cycling_count              float64\n",
       "reservations_attended_dance_count                float64\n",
       "reservations_attended_gym_count                  float64\n",
       "reservations_attended_martial_arts_count         float64\n",
       "reservations_attended_pilates_count              float64\n",
       "reservations_attended_rowing_count               float64\n",
       "reservations_attended_strength_training_count    float64\n",
       "reservations_attended_yoga_count                 float64\n",
       "reservations_attended_t1_count                   float64\n",
       "reservations_attended_t2_count                   float64\n",
       "reservations_attended_t3_count                   float64\n",
       "reservations_attended_count                      float64\n",
       "reservations_missed_count                        float64\n",
       "reservations_late_cancelled_count                float64\n",
       "cost_of_all_reservations_in_usd_no_tax           float64\n",
       "distinct_venues_count                            float64\n",
       "dtype: object"
      ]
     },
     "execution_count": 6,
     "metadata": {},
     "output_type": "execute_result"
    }
   ],
   "source": [
    "df.dtypes"
   ]
  },
  {
   "cell_type": "markdown",
   "metadata": {},
   "source": [
    "#### 3) Split Data into X, Y, test & train"
   ]
  },
  {
   "cell_type": "code",
   "execution_count": 7,
   "metadata": {
    "collapsed": true
   },
   "outputs": [],
   "source": [
    "X = df.drop('is_converted', axis=1)\n",
    "y = df['is_converted'].astype(int)"
   ]
  },
  {
   "cell_type": "code",
   "execution_count": 8,
   "metadata": {
    "collapsed": false
   },
   "outputs": [],
   "source": [
    "from sklearn.model_selection import train_test_split\n",
    "X_train, X_test, y_train, y_test = train_test_split(X, y, test_size=0.2)"
   ]
  },
  {
   "cell_type": "markdown",
   "metadata": {},
   "source": [
    "#### 4) Create Calculation for Model Results"
   ]
  },
  {
   "cell_type": "code",
   "execution_count": 9,
   "metadata": {
    "collapsed": true
   },
   "outputs": [],
   "source": [
    "def format_model_results(sklearn_model, X_train, X_test, y_train, y_test):\n",
    "    # Get the model's class name (E.g. LogisticRegression, KNearestNeighbor, etc.) and store it to a string\n",
    "    model_class_name = sklearn_model.__class__.__name__  \n",
    "    \n",
    "    y_test_pred   = sklearn_model.predict(X_test)\n",
    "    y_train_pred  = sklearn_model.predict(X_train)\n",
    "\n",
    "    accuracy_score  = metrics.accuracy_score(y_test, y_test_pred)\n",
    "    precision_score = metrics.precision_score(y_test, y_test_pred, average='binary')\n",
    "    recall_score    = metrics.recall_score(y_test, y_test_pred, average='binary')\n",
    "    f1_score        = metrics.f1_score(y_test, y_test_pred, average='binary')\n",
    "    f1_score_train  = metrics.f1_score(y_train, y_train_pred, average='binary')\n",
    "    \n",
    "    return pd.DataFrame({\n",
    "            \"Accuracy\": accuracy_score, \n",
    "            \"Precision\": precision_score, \n",
    "            \"Recall\": recall_score, \n",
    "            \"F1 score\": f1_score, \n",
    "            \"F1 score (train)\": f1_score_train\n",
    "        }, index=[model_class_name])"
   ]
  },
  {
   "cell_type": "markdown",
   "metadata": {},
   "source": [
    "#### 5) Run Feature Extraction Models\n",
    "##### Model A: Decision Tree Classifier`"
   ]
  },
  {
   "cell_type": "code",
   "execution_count": 10,
   "metadata": {
    "collapsed": false
   },
   "outputs": [],
   "source": [
    "dtc = DecisionTreeClassifier()    \n",
    "dtc.fit(X, y)\n",
    "\n",
    "def build_tree_image(dtc):\n",
    "    dotfile = open(\"tree.dot\", 'w')\n",
    "    export_graphviz(dtc, out_file = dotfile, feature_names = X.columns)\n",
    "    dotfile.close()\n",
    "    os.system(\"dot -Tpng tree.dot -o tree.png\")\n",
    "\n",
    "dtc = DecisionTreeClassifier(\n",
    "                max_depth = 5,\n",
    "                min_samples_leaf = 10)\n",
    "\n",
    "dtc.fit(X, y)\n",
    "build_tree_image(dtc)"
   ]
  },
  {
   "cell_type": "code",
   "execution_count": 11,
   "metadata": {
    "collapsed": false
   },
   "outputs": [],
   "source": [
    "dtc = DecisionTreeClassifier(\n",
    "                max_depth = 5,\n",
    "                min_samples_leaf = 10)\n",
    "\n",
    "dtc.fit(X, y)\n",
    "build_tree_image(dtc)"
   ]
  },
  {
   "cell_type": "code",
   "execution_count": 12,
   "metadata": {
    "collapsed": false
   },
   "outputs": [
    {
     "data": {
      "text/html": [
       "<div>\n",
       "<table border=\"1\" class=\"dataframe\">\n",
       "  <thead>\n",
       "    <tr style=\"text-align: right;\">\n",
       "      <th></th>\n",
       "      <th>Accuracy</th>\n",
       "      <th>F1 score</th>\n",
       "      <th>F1 score (train)</th>\n",
       "      <th>Precision</th>\n",
       "      <th>Recall</th>\n",
       "    </tr>\n",
       "  </thead>\n",
       "  <tbody>\n",
       "    <tr>\n",
       "      <th>DecisionTreeClassifier</th>\n",
       "      <td>0.757067</td>\n",
       "      <td>0.811689</td>\n",
       "      <td>0.811534</td>\n",
       "      <td>0.815526</td>\n",
       "      <td>0.807888</td>\n",
       "    </tr>\n",
       "  </tbody>\n",
       "</table>\n",
       "</div>"
      ],
      "text/plain": [
       "                        Accuracy  F1 score  F1 score (train)  Precision  \\\n",
       "DecisionTreeClassifier  0.757067  0.811689          0.811534   0.815526   \n",
       "\n",
       "                          Recall  \n",
       "DecisionTreeClassifier  0.807888  "
      ]
     },
     "execution_count": 12,
     "metadata": {},
     "output_type": "execute_result"
    }
   ],
   "source": [
    "format_model_results(dtc, X_train, X_test, y_train, y_test)"
   ]
  },
  {
   "cell_type": "markdown",
   "metadata": {},
   "source": [
    "##### Model B: Random Forest Classifier"
   ]
  },
  {
   "cell_type": "code",
   "execution_count": 13,
   "metadata": {
    "collapsed": false
   },
   "outputs": [
    {
     "data": {
      "text/plain": [
       "RandomForestClassifier(bootstrap=True, class_weight=None, criterion='gini',\n",
       "            max_depth=None, max_features='auto', max_leaf_nodes=None,\n",
       "            min_impurity_split=1e-07, min_samples_leaf=1,\n",
       "            min_samples_split=2, min_weight_fraction_leaf=0.0,\n",
       "            n_estimators=30, n_jobs=1, oob_score=False, random_state=None,\n",
       "            verbose=0, warm_start=False)"
      ]
     },
     "execution_count": 13,
     "metadata": {},
     "output_type": "execute_result"
    }
   ],
   "source": [
    "rfc = RandomForestClassifier(n_estimators = 30)\n",
    "rfc.fit(X_train, y_train)"
   ]
  },
  {
   "cell_type": "code",
   "execution_count": 14,
   "metadata": {
    "collapsed": false
   },
   "outputs": [
    {
     "data": {
      "text/html": [
       "<div>\n",
       "<table border=\"1\" class=\"dataframe\">\n",
       "  <thead>\n",
       "    <tr style=\"text-align: right;\">\n",
       "      <th></th>\n",
       "      <th>Accuracy</th>\n",
       "      <th>F1 score</th>\n",
       "      <th>F1 score (train)</th>\n",
       "      <th>Precision</th>\n",
       "      <th>Recall</th>\n",
       "    </tr>\n",
       "  </thead>\n",
       "  <tbody>\n",
       "    <tr>\n",
       "      <th>RandomForestClassifier</th>\n",
       "      <td>0.789237</td>\n",
       "      <td>0.837828</td>\n",
       "      <td>0.996044</td>\n",
       "      <td>0.835581</td>\n",
       "      <td>0.840087</td>\n",
       "    </tr>\n",
       "  </tbody>\n",
       "</table>\n",
       "</div>"
      ],
      "text/plain": [
       "                        Accuracy  F1 score  F1 score (train)  Precision  \\\n",
       "RandomForestClassifier  0.789237  0.837828          0.996044   0.835581   \n",
       "\n",
       "                          Recall  \n",
       "RandomForestClassifier  0.840087  "
      ]
     },
     "execution_count": 14,
     "metadata": {},
     "output_type": "execute_result"
    }
   ],
   "source": [
    "format_model_results(rfc, X_train, X_test, y_train, y_test)"
   ]
  },
  {
   "cell_type": "code",
   "execution_count": 15,
   "metadata": {
    "collapsed": false
   },
   "outputs": [
    {
     "name": "stdout",
     "output_type": "stream",
     "text": [
      "                                         Features  Importance Score\n",
      "12                                     promo_days          0.119544\n",
      "39         cost_of_all_reservations_in_usd_no_tax          0.078584\n",
      "10                         user_acquisition_month          0.069376\n",
      "40                          distinct_venues_count          0.051987\n",
      "36                    reservations_attended_count          0.049700\n",
      "19                                    user_msa_id          0.047134\n",
      "22                               avg_peak_classes          0.046083\n",
      "21                 avg_days_from_booking_to_class          0.043503\n",
      "0                              lead_created_month          0.043328\n",
      "20                               avg_class_rating          0.036276\n",
      "13                             lead_to_promo_days          0.033842\n",
      "11                   user_acquisition_day_of_week          0.032234\n",
      "1                        lead_created_day_of_week          0.030158\n",
      "9                                      is_organic          0.028001\n",
      "33                 reservations_attended_t1_count          0.022469\n",
      "14                         is_three_studio_visits          0.021886\n",
      "31  reservations_attended_strength_training_count          0.019845\n",
      "15                           is_two_studio_visits          0.018889\n",
      "34                 reservations_attended_t2_count          0.018780\n",
      "32               reservations_attended_yoga_count          0.017421\n",
      "17                                   is_onboarded          0.016633\n",
      "25            reservations_attended_cycling_count          0.015726\n",
      "29            reservations_attended_pilates_count          0.015448\n",
      "23              reservations_attended_barre_count          0.015163\n",
      "35                 reservations_attended_t3_count          0.013398\n",
      "8                                   is_paidsocial          0.013214\n",
      "26              reservations_attended_dance_count          0.009752\n",
      "3                                 is_organic_lead          0.008872\n",
      "38              reservations_late_cancelled_count          0.008647\n",
      "24             reservations_attended_boxing_count          0.007203\n",
      "18                                   user_country          0.006591\n",
      "7                                     is_referral          0.006376\n",
      "37                      reservations_missed_count          0.006285\n",
      "6                                        is_email          0.005919\n",
      "2                              is_paidsocial_lead          0.004744\n",
      "30             reservations_attended_rowing_count          0.004143\n",
      "28       reservations_attended_martial_arts_count          0.003930\n",
      "27                reservations_attended_gym_count          0.003503\n",
      "5                                is_inviteafriend          0.003121\n",
      "16                          is_four_studio_visits          0.001538\n",
      "4                                  is_seo_studios          0.000754\n"
     ]
    }
   ],
   "source": [
    "features = X.columns\n",
    "feature_importances = rfc.feature_importances_\n",
    "\n",
    "features_rfc = pd.DataFrame({'Features': features, 'Importance Score': feature_importances})\n",
    "features_rfc.sort_values('Importance Score', inplace=True, ascending=False)\n",
    "\n",
    "print features_rfc"
   ]
  },
  {
   "cell_type": "code",
   "execution_count": 16,
   "metadata": {
    "collapsed": false
   },
   "outputs": [
    {
     "name": "stdout",
     "output_type": "stream",
     "text": [
      "CV Accuracy [ 0.65603902  0.47516473  0.39117707], Average Accuracy 0.507460272819\n",
      "n trees: 1, CV accuracy [ 0.65822195  0.49679145  0.40885839], Average accuracy 0.521290594588\n",
      "n trees: 31, CV accuracy [ 0.6552793   0.47927735  0.38775324], Average accuracy 0.507436631286\n",
      "n trees: 61, CV accuracy [ 0.65528943  0.47701339  0.41244429], Average accuracy 0.514915700461\n",
      "n trees: 91, CV accuracy [ 0.65493489  0.47741351  0.41264688], Average accuracy 0.514998425938\n",
      "n trees: 121, CV accuracy [ 0.65495009  0.47633977  0.41864364], Average accuracy 0.516644497417\n",
      "n trees: 151, CV accuracy [ 0.65513242  0.47608653  0.4099372 ], Average accuracy 0.513718714177\n",
      "n trees: 181, CV accuracy [ 0.65503112  0.47675002  0.40670583], Average accuracy 0.512828991455\n"
     ]
    }
   ],
   "source": [
    "scores = cross_val_score(rfc, X, y, scoring='accuracy')\n",
    "print('CV Accuracy {}, Average Accuracy {}'.format(scores, scores.mean()))\n",
    "\n",
    "for n_trees in range(1, 211, 30):\n",
    "    model = RandomForestClassifier(n_estimators = n_trees)\n",
    "    scores = cross_val_score(model, X, y, scoring='accuracy')\n",
    "    print('n trees: {}, CV accuracy {}, Average accuracy {}'.format(n_trees, scores, scores.mean()))"
   ]
  },
  {
   "cell_type": "markdown",
   "metadata": {},
   "source": [
    "##### Model C: Extra Trees Classifier"
   ]
  },
  {
   "cell_type": "code",
   "execution_count": 17,
   "metadata": {
    "collapsed": false
   },
   "outputs": [
    {
     "data": {
      "text/plain": [
       "ExtraTreesClassifier(bootstrap=False, class_weight=None, criterion='gini',\n",
       "           max_depth=None, max_features='auto', max_leaf_nodes=None,\n",
       "           min_impurity_split=1e-07, min_samples_leaf=1,\n",
       "           min_samples_split=2, min_weight_fraction_leaf=0.0,\n",
       "           n_estimators=10, n_jobs=1, oob_score=False, random_state=None,\n",
       "           verbose=0, warm_start=False)"
      ]
     },
     "execution_count": 17,
     "metadata": {},
     "output_type": "execute_result"
    }
   ],
   "source": [
    "etc = ExtraTreesClassifier()\n",
    "etc.fit(X, y)"
   ]
  },
  {
   "cell_type": "code",
   "execution_count": 18,
   "metadata": {
    "collapsed": false
   },
   "outputs": [
    {
     "name": "stdout",
     "output_type": "stream",
     "text": [
      "                                               importance\n",
      "feature                                                  \n",
      "user_acquisition_month                              0.067\n",
      "avg_peak_classes                                    0.064\n",
      "promo_days                                          0.063\n",
      "is_organic                                          0.057\n",
      "avg_class_rating                                    0.055\n",
      "lead_created_month                                  0.046\n",
      "is_onboarded                                        0.045\n",
      "user_msa_id                                         0.045\n",
      "cost_of_all_reservations_in_usd_no_tax              0.034\n",
      "user_acquisition_day_of_week                        0.033\n",
      "avg_days_from_booking_to_class                      0.032\n",
      "lead_to_promo_days                                  0.031\n",
      "lead_created_day_of_week                            0.031\n",
      "is_three_studio_visits                              0.029\n",
      "reservations_attended_t1_count                      0.028\n",
      "distinct_venues_count                               0.026\n",
      "reservations_attended_count                         0.025\n",
      "reservations_attended_strength_training_count       0.022\n",
      "reservations_attended_t2_count                      0.021\n",
      "reservations_attended_yoga_count                    0.021\n",
      "reservations_attended_cycling_count                 0.020\n",
      "reservations_attended_pilates_count                 0.019\n",
      "reservations_attended_barre_count                   0.019\n",
      "is_paidsocial                                       0.017\n",
      "reservations_attended_t3_count                      0.017\n",
      "is_two_studio_visits                                0.014\n",
      "reservations_attended_dance_count                   0.014\n",
      "reservations_late_cancelled_count                   0.014\n",
      "is_organic_lead                                     0.013\n",
      "reservations_attended_boxing_count                  0.011\n",
      "reservations_missed_count                           0.010\n",
      "is_referral                                         0.008\n",
      "user_country                                        0.008\n",
      "reservations_attended_rowing_count                  0.007\n",
      "is_inviteafriend                                    0.007\n",
      "is_email                                            0.007\n",
      "reservations_attended_martial_arts_count            0.006\n",
      "reservations_attended_gym_count                     0.005\n",
      "is_paidsocial_lead                                  0.005\n",
      "is_four_studio_visits                               0.003\n",
      "is_seo_studios                                      0.001\n"
     ]
    },
    {
     "data": {
      "text/plain": [
       "<matplotlib.axes._subplots.AxesSubplot at 0x1194be950>"
      ]
     },
     "execution_count": 18,
     "metadata": {},
     "output_type": "execute_result"
    },
    {
     "data": {
      "image/png": "[encoded data removed]",
      "text/plain": [
       "<matplotlib.figure.Figure at 0x1191933d0>"
      ]
     },
     "metadata": {},
     "output_type": "display_data"
    }
   ],
   "source": [
    "importances = pd.DataFrame({'feature':X_train.columns,'importance':np.round(etc.feature_importances_,3)})\n",
    "importances = importances.sort_values('importance',ascending=False).set_index('feature')\n",
    "print importances\n",
    "importances.plot.bar()"
   ]
  },
  {
   "cell_type": "code",
   "execution_count": 19,
   "metadata": {
    "collapsed": false
   },
   "outputs": [
    {
     "data": {
      "text/html": [
       "<div>\n",
       "<table border=\"1\" class=\"dataframe\">\n",
       "  <thead>\n",
       "    <tr style=\"text-align: right;\">\n",
       "      <th></th>\n",
       "      <th>Accuracy</th>\n",
       "      <th>F1 score</th>\n",
       "      <th>F1 score (train)</th>\n",
       "      <th>Precision</th>\n",
       "      <th>Recall</th>\n",
       "    </tr>\n",
       "  </thead>\n",
       "  <tbody>\n",
       "    <tr>\n",
       "      <th>ExtraTreesClassifier</th>\n",
       "      <td>0.994817</td>\n",
       "      <td>0.995994</td>\n",
       "      <td>0.996049</td>\n",
       "      <td>0.997817</td>\n",
       "      <td>0.994178</td>\n",
       "    </tr>\n",
       "  </tbody>\n",
       "</table>\n",
       "</div>"
      ],
      "text/plain": [
       "                      Accuracy  F1 score  F1 score (train)  Precision  \\\n",
       "ExtraTreesClassifier  0.994817  0.995994          0.996049   0.997817   \n",
       "\n",
       "                        Recall  \n",
       "ExtraTreesClassifier  0.994178  "
      ]
     },
     "execution_count": 19,
     "metadata": {},
     "output_type": "execute_result"
    }
   ],
   "source": [
    "format_model_results(etc, X_train, X_test, y_train, y_test)"
   ]
  },
  {
   "cell_type": "markdown",
   "metadata": {},
   "source": [
    "#### 6) Drop Variables from Model"
   ]
  },
  {
   "cell_type": "code",
   "execution_count": 33,
   "metadata": {
    "collapsed": true
   },
   "outputs": [],
   "source": [
    "df2 = df[['is_converted','is_organic','promo_days','user_acquisition_month','cost_of_all_reservations_in_usd_no_tax','avg_class_rating','avg_peak_classes','avg_days_from_booking_to_class','user_msa_id','is_onboarded','distinct_venues_count']]"
   ]
  },
  {
   "cell_type": "code",
   "execution_count": 34,
   "metadata": {
    "collapsed": true
   },
   "outputs": [],
   "source": [
    "X = df2.drop('is_converted', axis=1)\n",
    "y = df2['is_converted'].astype(int)\n",
    "\n",
    "X_train, X_test, y_train, y_test = train_test_split(X, y, test_size=0.2)"
   ]
  },
  {
   "cell_type": "code",
   "execution_count": 35,
   "metadata": {
    "collapsed": false
   },
   "outputs": [
    {
     "data": {
      "text/plain": [
       "(592322, 11)"
      ]
     },
     "execution_count": 35,
     "metadata": {},
     "output_type": "execute_result"
    }
   ],
   "source": [
    "df2.shape"
   ]
  },
  {
   "cell_type": "markdown",
   "metadata": {},
   "source": [
    "#### Rerun Model A: Decision Tree Classifier"
   ]
  },
  {
   "cell_type": "code",
   "execution_count": 36,
   "metadata": {
    "collapsed": false
   },
   "outputs": [
    {
     "data": {
      "text/html": [
       "<div>\n",
       "<table border=\"1\" class=\"dataframe\">\n",
       "  <thead>\n",
       "    <tr style=\"text-align: right;\">\n",
       "      <th></th>\n",
       "      <th>Accuracy</th>\n",
       "      <th>F1 score</th>\n",
       "      <th>F1 score (train)</th>\n",
       "      <th>Precision</th>\n",
       "      <th>Recall</th>\n",
       "    </tr>\n",
       "  </thead>\n",
       "  <tbody>\n",
       "    <tr>\n",
       "      <th>DecisionTreeClassifier</th>\n",
       "      <td>0.753556</td>\n",
       "      <td>0.806721</td>\n",
       "      <td>0.806842</td>\n",
       "      <td>0.82412</td>\n",
       "      <td>0.790041</td>\n",
       "    </tr>\n",
       "  </tbody>\n",
       "</table>\n",
       "</div>"
      ],
      "text/plain": [
       "                        Accuracy  F1 score  F1 score (train)  Precision  \\\n",
       "DecisionTreeClassifier  0.753556  0.806721          0.806842    0.82412   \n",
       "\n",
       "                          Recall  \n",
       "DecisionTreeClassifier  0.790041  "
      ]
     },
     "execution_count": 36,
     "metadata": {},
     "output_type": "execute_result"
    }
   ],
   "source": [
    "dtc = DecisionTreeClassifier( max_depth = 5, min_samples_leaf = 10)\n",
    "\n",
    "dtc.fit(X, y)\n",
    "build_tree_image(dtc)\n",
    "\n",
    "format_model_results(dtc, X_train, X_test, y_train, y_test)"
   ]
  },
  {
   "cell_type": "markdown",
   "metadata": {},
   "source": [
    "#### Rerun Model B: Random Forest Classifier"
   ]
  },
  {
   "cell_type": "code",
   "execution_count": 37,
   "metadata": {
    "collapsed": false
   },
   "outputs": [
    {
     "data": {
      "text/html": [
       "<div>\n",
       "<table border=\"1\" class=\"dataframe\">\n",
       "  <thead>\n",
       "    <tr style=\"text-align: right;\">\n",
       "      <th></th>\n",
       "      <th>Accuracy</th>\n",
       "      <th>F1 score</th>\n",
       "      <th>F1 score (train)</th>\n",
       "      <th>Precision</th>\n",
       "      <th>Recall</th>\n",
       "    </tr>\n",
       "  </thead>\n",
       "  <tbody>\n",
       "    <tr>\n",
       "      <th>RandomForestClassifier</th>\n",
       "      <td>0.772785</td>\n",
       "      <td>0.826166</td>\n",
       "      <td>0.984677</td>\n",
       "      <td>0.822961</td>\n",
       "      <td>0.829396</td>\n",
       "    </tr>\n",
       "  </tbody>\n",
       "</table>\n",
       "</div>"
      ],
      "text/plain": [
       "                        Accuracy  F1 score  F1 score (train)  Precision  \\\n",
       "RandomForestClassifier  0.772785  0.826166          0.984677   0.822961   \n",
       "\n",
       "                          Recall  \n",
       "RandomForestClassifier  0.829396  "
      ]
     },
     "execution_count": 37,
     "metadata": {},
     "output_type": "execute_result"
    }
   ],
   "source": [
    "rfc = RandomForestClassifier(n_estimators = 30)\n",
    "rfc.fit(X_train, y_train)\n",
    "\n",
    "format_model_results(rfc, X_train, X_test, y_train, y_test)"
   ]
  },
  {
   "cell_type": "markdown",
   "metadata": {},
   "source": [
    "#### Rerun Model C: Extra Trees Classifier"
   ]
  },
  {
   "cell_type": "code",
   "execution_count": 38,
   "metadata": {
    "collapsed": false
   },
   "outputs": [
    {
     "data": {
      "text/html": [
       "<div>\n",
       "<table border=\"1\" class=\"dataframe\">\n",
       "  <thead>\n",
       "    <tr style=\"text-align: right;\">\n",
       "      <th></th>\n",
       "      <th>Accuracy</th>\n",
       "      <th>F1 score</th>\n",
       "      <th>F1 score (train)</th>\n",
       "      <th>Precision</th>\n",
       "      <th>Recall</th>\n",
       "    </tr>\n",
       "  </thead>\n",
       "  <tbody>\n",
       "    <tr>\n",
       "      <th>ExtraTreesClassifier</th>\n",
       "      <td>0.980095</td>\n",
       "      <td>0.984658</td>\n",
       "      <td>0.984628</td>\n",
       "      <td>0.988181</td>\n",
       "      <td>0.981159</td>\n",
       "    </tr>\n",
       "  </tbody>\n",
       "</table>\n",
       "</div>"
      ],
      "text/plain": [
       "                      Accuracy  F1 score  F1 score (train)  Precision  \\\n",
       "ExtraTreesClassifier  0.980095  0.984658          0.984628   0.988181   \n",
       "\n",
       "                        Recall  \n",
       "ExtraTreesClassifier  0.981159  "
      ]
     },
     "execution_count": 38,
     "metadata": {},
     "output_type": "execute_result"
    }
   ],
   "source": [
    "etc = ExtraTreesClassifier()\n",
    "etc.fit(X, y)\n",
    "\n",
    "format_model_results(etc, X_train, X_test, y_train, y_test)"
   ]
  },
  {
   "cell_type": "markdown",
   "metadata": {},
   "source": [
    "#### Run Model D: Logistic Regression"
   ]
  },
  {
   "cell_type": "code",
   "execution_count": 39,
   "metadata": {
    "collapsed": true
   },
   "outputs": [],
   "source": [
    "stdsc = StandardScaler()\n",
    "X_train_std = stdsc.fit_transform(X_train)\n",
    "X_test_std = stdsc.transform(X_test)\n",
    "logreg = LogisticRegression(penalty='l2', C=10)"
   ]
  },
  {
   "cell_type": "code",
   "execution_count": 40,
   "metadata": {
    "collapsed": false
   },
   "outputs": [
    {
     "data": {
      "text/plain": [
       "[('is_organic', 1.2942891076800298),\n",
       " ('promo_days', -0.19066898573859475),\n",
       " ('user_acquisition_month', 0.3654403706197954),\n",
       " ('cost_of_all_reservations_in_usd_no_tax', 0.38430655759177024),\n",
       " ('avg_class_rating', -0.30479621954241409),\n",
       " ('avg_peak_classes', -0.13080994788250117),\n",
       " ('avg_days_from_booking_to_class', -0.11639629594196942),\n",
       " ('user_msa_id', -0.089556729592743314),\n",
       " ('is_onboarded', 0.35501894932235828),\n",
       " ('distinct_venues_count', 0.26417005521197212)]"
      ]
     },
     "execution_count": 40,
     "metadata": {},
     "output_type": "execute_result"
    }
   ],
   "source": [
    "logreg.fit(X_train_std, y_train)\n",
    "zip(X, logreg.coef_[0])"
   ]
  },
  {
   "cell_type": "code",
   "execution_count": 41,
   "metadata": {
    "collapsed": true
   },
   "outputs": [],
   "source": [
    "y_pred_class = logreg.predict(X_test_std)"
   ]
  },
  {
   "cell_type": "code",
   "execution_count": 42,
   "metadata": {
    "collapsed": false
   },
   "outputs": [
    {
     "data": {
      "text/html": [
       "<div>\n",
       "<table border=\"1\" class=\"dataframe\">\n",
       "  <thead>\n",
       "    <tr style=\"text-align: right;\">\n",
       "      <th></th>\n",
       "      <th>Accuracy</th>\n",
       "      <th>F1 score</th>\n",
       "      <th>F1 score (train)</th>\n",
       "      <th>Precision</th>\n",
       "      <th>Recall</th>\n",
       "    </tr>\n",
       "  </thead>\n",
       "  <tbody>\n",
       "    <tr>\n",
       "      <th>LogisticRegression</th>\n",
       "      <td>0.675997</td>\n",
       "      <td>0.791855</td>\n",
       "      <td>0.791175</td>\n",
       "      <td>0.680533</td>\n",
       "      <td>0.946719</td>\n",
       "    </tr>\n",
       "  </tbody>\n",
       "</table>\n",
       "</div>"
      ],
      "text/plain": [
       "                    Accuracy  F1 score  F1 score (train)  Precision    Recall\n",
       "LogisticRegression  0.675997  0.791855          0.791175   0.680533  0.946719"
      ]
     },
     "execution_count": 42,
     "metadata": {},
     "output_type": "execute_result"
    }
   ],
   "source": [
    "format_model_results(logreg, X_train, X_test, y_train, y_test)"
   ]
  },
  {
   "cell_type": "markdown",
   "metadata": {
    "collapsed": false
   },
   "source": [
    "#### Run Model E: K Nearest Neighbors"
   ]
  },
  {
   "cell_type": "code",
   "execution_count": 43,
   "metadata": {
    "collapsed": false
   },
   "outputs": [
    {
     "name": "stdout",
     "output_type": "stream",
     "text": [
      "[ 0.76408805  0.76500456  0.76403591]\n"
     ]
    }
   ],
   "source": [
    "cv = ShuffleSplit(n_splits=5, test_size=0.3, random_state=0)\n",
    "\n",
    "knn = KNeighborsClassifier(n_neighbors=15,weights='uniform', p=2)\n",
    "score = cross_val_score(knn, X_train_std, y_train, scoring='accuracy')\n",
    "print score"
   ]
  },
  {
   "cell_type": "code",
   "execution_count": 44,
   "metadata": {
    "collapsed": false
   },
   "outputs": [
    {
     "data": {
      "text/plain": [
       "KNeighborsClassifier(algorithm='auto', leaf_size=30, metric='minkowski',\n",
       "           metric_params=None, n_jobs=1, n_neighbors=15, p=2,\n",
       "           weights='uniform')"
      ]
     },
     "execution_count": 44,
     "metadata": {},
     "output_type": "execute_result"
    }
   ],
   "source": [
    "knn.fit(X, y)"
   ]
  },
  {
   "cell_type": "code",
   "execution_count": 46,
   "metadata": {
    "collapsed": false
   },
   "outputs": [
    {
     "data": {
      "text/html": [
       "<div>\n",
       "<table border=\"1\" class=\"dataframe\">\n",
       "  <thead>\n",
       "    <tr style=\"text-align: right;\">\n",
       "      <th></th>\n",
       "      <th>Accuracy</th>\n",
       "      <th>F1 score</th>\n",
       "      <th>F1 score (train)</th>\n",
       "      <th>Precision</th>\n",
       "      <th>Recall</th>\n",
       "    </tr>\n",
       "  </thead>\n",
       "  <tbody>\n",
       "    <tr>\n",
       "      <th>KNeighborsClassifier</th>\n",
       "      <td>0.653459</td>\n",
       "      <td>0.786517</td>\n",
       "      <td>0.784929</td>\n",
       "      <td>0.656567</td>\n",
       "      <td>0.980602</td>\n",
       "    </tr>\n",
       "  </tbody>\n",
       "</table>\n",
       "</div>"
      ],
      "text/plain": [
       "                      Accuracy  F1 score  F1 score (train)  Precision  \\\n",
       "KNeighborsClassifier  0.653459  0.786517          0.784929   0.656567   \n",
       "\n",
       "                        Recall  \n",
       "KNeighborsClassifier  0.980602  "
      ]
     },
     "execution_count": 46,
     "metadata": {},
     "output_type": "execute_result"
    }
   ],
   "source": [
    "format_model_results(knn, X_train_std, X_test_std, y_train, y_test)"
   ]
  }
 ],
 "metadata": {
  "anaconda-cloud": {},
  "kernelspec": {
   "display_name": "Python [conda root]",
   "language": "python",
   "name": "conda-root-py"
  },
  "language_info": {
   "codemirror_mode": {
    "name": "ipython",
    "version": 2
   },
   "file_extension": ".py",
   "mimetype": "text/x-python",
   "name": "python",
   "nbconvert_exporter": "python",
   "pygments_lexer": "ipython2",
   "version": "2.7.12"
  }
 },
 "nbformat": 4,
 "nbformat_minor": 1
}
