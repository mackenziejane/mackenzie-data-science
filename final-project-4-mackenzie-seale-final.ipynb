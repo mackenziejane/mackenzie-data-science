{
 "cells": [
  {
   "cell_type": "markdown",
   "metadata": {},
   "source": [
    "# DS-NYC-45 | Final Project 4: Modeling Performance"
   ]
  },
  {
   "cell_type": "markdown",
   "metadata": {},
   "source": [
    "#### 1) Load Relevant Libraries and Data"
   ]
  },
  {
   "cell_type": "code",
   "execution_count": 1,
   "metadata": {
    "collapsed": false
   },
   "outputs": [],
   "source": [
    "import os\n",
    "import pandas as pd\n",
    "import numpy as np\n",
    "import matplotlib.pyplot as plt\n",
    "import seaborn as sns\n",
    "import statsmodels.api as sm\n",
    "import sklearn as skl\n",
    "from sklearn import ensemble, metrics\n",
    "from sklearn.tree import DecisionTreeClassifier, export_graphviz\n",
    "from sklearn.ensemble import RandomForestRegressor,ExtraTreesClassifier, RandomForestClassifier\n",
    "from sklearn.linear_model import LinearRegression, LogisticRegression, RidgeCV\n",
    "from sklearn.preprocessing import StandardScaler\n",
    "from sklearn.neighbors import KNeighborsClassifier\n",
    "from sklearn.model_selection import ShuffleSplit, cross_val_score,train_test_split\n",
    "\n",
    "pd.set_option('display.max_rows', 1000)\n",
    "pd.set_option('display.max_columns', 100)\n",
    "pd.set_option('display.notebook_repr_html', True)\n",
    "\n",
    "%matplotlib inline\n",
    "plt.style.use('ggplot')"
   ]
  },
  {
   "cell_type": "code",
   "execution_count": 2,
   "metadata": {
    "collapsed": false
   },
   "outputs": [],
   "source": [
    "users = pd.read_csv(os.path.join('project_dataset', 'user_data.csv'), index_col='user_id')\n",
    "res = pd.read_csv(os.path.join('project_dataset', 'reservations_data.csv'), index_col='user_id')"
   ]
  },
  {
   "cell_type": "markdown",
   "metadata": {},
   "source": [
    "#### 2) Combine & Clean Data"
   ]
  },
  {
   "cell_type": "code",
   "execution_count": 3,
   "metadata": {
    "collapsed": false
   },
   "outputs": [],
   "source": [
    "df = pd.concat([users, res], axis=1, join_axes=[users.index])"
   ]
  },
  {
   "cell_type": "code",
   "execution_count": 4,
   "metadata": {
    "collapsed": false
   },
   "outputs": [
    {
     "data": {
      "text/html": [
       "<div>\n",
       "<table border=\"1\" class=\"dataframe\">\n",
       "  <thead>\n",
       "    <tr style=\"text-align: right;\">\n",
       "      <th></th>\n",
       "      <th>is_converted</th>\n",
       "      <th>lead_created_month</th>\n",
       "      <th>lead_created_day_of_week</th>\n",
       "      <th>is_paidsocial_lead</th>\n",
       "      <th>is_organic_lead</th>\n",
       "      <th>is_seo_studios</th>\n",
       "      <th>is_inviteafriend</th>\n",
       "      <th>is_email</th>\n",
       "      <th>is_referral</th>\n",
       "      <th>is_paidsocial</th>\n",
       "      <th>is_organic</th>\n",
       "      <th>user_acquisition_month</th>\n",
       "      <th>user_acquisition_day_of_week</th>\n",
       "      <th>promo_days</th>\n",
       "      <th>lead_to_promo_days</th>\n",
       "      <th>is_three_studio_visits</th>\n",
       "      <th>is_two_studio_visits</th>\n",
       "      <th>is_four_studio_visits</th>\n",
       "      <th>is_onboarded</th>\n",
       "      <th>user_country</th>\n",
       "      <th>user_msa_id</th>\n",
       "      <th>avg_class_rating</th>\n",
       "      <th>avg_days_from_booking_to_class</th>\n",
       "      <th>avg_peak_classes</th>\n",
       "      <th>reservations_attended_barre_count</th>\n",
       "      <th>reservations_attended_boxing_count</th>\n",
       "      <th>reservations_attended_cycling_count</th>\n",
       "      <th>reservations_attended_dance_count</th>\n",
       "      <th>reservations_attended_gym_count</th>\n",
       "      <th>reservations_attended_martial_arts_count</th>\n",
       "      <th>reservations_attended_pilates_count</th>\n",
       "      <th>reservations_attended_rowing_count</th>\n",
       "      <th>reservations_attended_strength_training_count</th>\n",
       "      <th>reservations_attended_yoga_count</th>\n",
       "      <th>reservations_attended_t1_count</th>\n",
       "      <th>reservations_attended_t2_count</th>\n",
       "      <th>reservations_attended_t3_count</th>\n",
       "      <th>reservations_attended_count</th>\n",
       "      <th>reservations_missed_count</th>\n",
       "      <th>reservations_late_cancelled_count</th>\n",
       "      <th>cost_of_all_reservations_in_usd_no_tax</th>\n",
       "      <th>distinct_venues_count</th>\n",
       "    </tr>\n",
       "    <tr>\n",
       "      <th>user_id</th>\n",
       "      <th></th>\n",
       "      <th></th>\n",
       "      <th></th>\n",
       "      <th></th>\n",
       "      <th></th>\n",
       "      <th></th>\n",
       "      <th></th>\n",
       "      <th></th>\n",
       "      <th></th>\n",
       "      <th></th>\n",
       "      <th></th>\n",
       "      <th></th>\n",
       "      <th></th>\n",
       "      <th></th>\n",
       "      <th></th>\n",
       "      <th></th>\n",
       "      <th></th>\n",
       "      <th></th>\n",
       "      <th></th>\n",
       "      <th></th>\n",
       "      <th></th>\n",
       "      <th></th>\n",
       "      <th></th>\n",
       "      <th></th>\n",
       "      <th></th>\n",
       "      <th></th>\n",
       "      <th></th>\n",
       "      <th></th>\n",
       "      <th></th>\n",
       "      <th></th>\n",
       "      <th></th>\n",
       "      <th></th>\n",
       "      <th></th>\n",
       "      <th></th>\n",
       "      <th></th>\n",
       "      <th></th>\n",
       "      <th></th>\n",
       "      <th></th>\n",
       "      <th></th>\n",
       "      <th></th>\n",
       "      <th></th>\n",
       "      <th></th>\n",
       "    </tr>\n",
       "  </thead>\n",
       "  <tbody>\n",
       "    <tr>\n",
       "      <th>12</th>\n",
       "      <td>0</td>\n",
       "      <td>5</td>\n",
       "      <td>4</td>\n",
       "      <td>0</td>\n",
       "      <td>1</td>\n",
       "      <td>0</td>\n",
       "      <td>0</td>\n",
       "      <td>0</td>\n",
       "      <td>0</td>\n",
       "      <td>0</td>\n",
       "      <td>1</td>\n",
       "      <td>9.0</td>\n",
       "      <td>3.0</td>\n",
       "      <td>0.0</td>\n",
       "      <td>0</td>\n",
       "      <td>1</td>\n",
       "      <td>0</td>\n",
       "      <td>0</td>\n",
       "      <td>1</td>\n",
       "      <td>1.0</td>\n",
       "      <td>1.0</td>\n",
       "      <td>0.0</td>\n",
       "      <td>0.00</td>\n",
       "      <td>0.00</td>\n",
       "      <td>0.0</td>\n",
       "      <td>0.0</td>\n",
       "      <td>0.0</td>\n",
       "      <td>0.0</td>\n",
       "      <td>0.0</td>\n",
       "      <td>0.0</td>\n",
       "      <td>0.0</td>\n",
       "      <td>0.0</td>\n",
       "      <td>0.0</td>\n",
       "      <td>0.0</td>\n",
       "      <td>0.0</td>\n",
       "      <td>0.0</td>\n",
       "      <td>0.0</td>\n",
       "      <td>0.0</td>\n",
       "      <td>0.0</td>\n",
       "      <td>0.0</td>\n",
       "      <td>0.0</td>\n",
       "      <td>0.0</td>\n",
       "    </tr>\n",
       "    <tr>\n",
       "      <th>14</th>\n",
       "      <td>0</td>\n",
       "      <td>5</td>\n",
       "      <td>5</td>\n",
       "      <td>0</td>\n",
       "      <td>1</td>\n",
       "      <td>0</td>\n",
       "      <td>0</td>\n",
       "      <td>0</td>\n",
       "      <td>0</td>\n",
       "      <td>0</td>\n",
       "      <td>1</td>\n",
       "      <td>9.0</td>\n",
       "      <td>3.0</td>\n",
       "      <td>0.0</td>\n",
       "      <td>0</td>\n",
       "      <td>1</td>\n",
       "      <td>0</td>\n",
       "      <td>0</td>\n",
       "      <td>1</td>\n",
       "      <td>1.0</td>\n",
       "      <td>1.0</td>\n",
       "      <td>0.0</td>\n",
       "      <td>0.00</td>\n",
       "      <td>0.00</td>\n",
       "      <td>0.0</td>\n",
       "      <td>0.0</td>\n",
       "      <td>0.0</td>\n",
       "      <td>0.0</td>\n",
       "      <td>0.0</td>\n",
       "      <td>0.0</td>\n",
       "      <td>0.0</td>\n",
       "      <td>0.0</td>\n",
       "      <td>0.0</td>\n",
       "      <td>0.0</td>\n",
       "      <td>0.0</td>\n",
       "      <td>0.0</td>\n",
       "      <td>0.0</td>\n",
       "      <td>0.0</td>\n",
       "      <td>0.0</td>\n",
       "      <td>0.0</td>\n",
       "      <td>0.0</td>\n",
       "      <td>0.0</td>\n",
       "    </tr>\n",
       "    <tr>\n",
       "      <th>15</th>\n",
       "      <td>1</td>\n",
       "      <td>6</td>\n",
       "      <td>1</td>\n",
       "      <td>0</td>\n",
       "      <td>1</td>\n",
       "      <td>0</td>\n",
       "      <td>0</td>\n",
       "      <td>0</td>\n",
       "      <td>0</td>\n",
       "      <td>0</td>\n",
       "      <td>1</td>\n",
       "      <td>9.0</td>\n",
       "      <td>1.0</td>\n",
       "      <td>0.0</td>\n",
       "      <td>0</td>\n",
       "      <td>0</td>\n",
       "      <td>1</td>\n",
       "      <td>0</td>\n",
       "      <td>1</td>\n",
       "      <td>1.0</td>\n",
       "      <td>1.0</td>\n",
       "      <td>0.0</td>\n",
       "      <td>0.00</td>\n",
       "      <td>0.00</td>\n",
       "      <td>0.0</td>\n",
       "      <td>0.0</td>\n",
       "      <td>0.0</td>\n",
       "      <td>0.0</td>\n",
       "      <td>0.0</td>\n",
       "      <td>0.0</td>\n",
       "      <td>0.0</td>\n",
       "      <td>0.0</td>\n",
       "      <td>0.0</td>\n",
       "      <td>0.0</td>\n",
       "      <td>0.0</td>\n",
       "      <td>0.0</td>\n",
       "      <td>0.0</td>\n",
       "      <td>0.0</td>\n",
       "      <td>0.0</td>\n",
       "      <td>0.0</td>\n",
       "      <td>0.0</td>\n",
       "      <td>0.0</td>\n",
       "    </tr>\n",
       "    <tr>\n",
       "      <th>16</th>\n",
       "      <td>1</td>\n",
       "      <td>7</td>\n",
       "      <td>3</td>\n",
       "      <td>0</td>\n",
       "      <td>1</td>\n",
       "      <td>0</td>\n",
       "      <td>0</td>\n",
       "      <td>0</td>\n",
       "      <td>0</td>\n",
       "      <td>0</td>\n",
       "      <td>1</td>\n",
       "      <td>8.0</td>\n",
       "      <td>4.0</td>\n",
       "      <td>0.0</td>\n",
       "      <td>0</td>\n",
       "      <td>1</td>\n",
       "      <td>0</td>\n",
       "      <td>0</td>\n",
       "      <td>1</td>\n",
       "      <td>1.0</td>\n",
       "      <td>1.0</td>\n",
       "      <td>0.0</td>\n",
       "      <td>0.00</td>\n",
       "      <td>0.00</td>\n",
       "      <td>0.0</td>\n",
       "      <td>0.0</td>\n",
       "      <td>0.0</td>\n",
       "      <td>0.0</td>\n",
       "      <td>0.0</td>\n",
       "      <td>0.0</td>\n",
       "      <td>0.0</td>\n",
       "      <td>0.0</td>\n",
       "      <td>0.0</td>\n",
       "      <td>0.0</td>\n",
       "      <td>0.0</td>\n",
       "      <td>0.0</td>\n",
       "      <td>0.0</td>\n",
       "      <td>0.0</td>\n",
       "      <td>0.0</td>\n",
       "      <td>0.0</td>\n",
       "      <td>0.0</td>\n",
       "      <td>0.0</td>\n",
       "    </tr>\n",
       "    <tr>\n",
       "      <th>23</th>\n",
       "      <td>1</td>\n",
       "      <td>6</td>\n",
       "      <td>1</td>\n",
       "      <td>0</td>\n",
       "      <td>1</td>\n",
       "      <td>0</td>\n",
       "      <td>0</td>\n",
       "      <td>0</td>\n",
       "      <td>0</td>\n",
       "      <td>0</td>\n",
       "      <td>0</td>\n",
       "      <td>8.0</td>\n",
       "      <td>3.0</td>\n",
       "      <td>30.0</td>\n",
       "      <td>429</td>\n",
       "      <td>0</td>\n",
       "      <td>1</td>\n",
       "      <td>0</td>\n",
       "      <td>1</td>\n",
       "      <td>1.0</td>\n",
       "      <td>1.0</td>\n",
       "      <td>5.0</td>\n",
       "      <td>1.25</td>\n",
       "      <td>0.75</td>\n",
       "      <td>0.0</td>\n",
       "      <td>0.0</td>\n",
       "      <td>0.0</td>\n",
       "      <td>1.0</td>\n",
       "      <td>0.0</td>\n",
       "      <td>0.0</td>\n",
       "      <td>0.0</td>\n",
       "      <td>0.0</td>\n",
       "      <td>2.0</td>\n",
       "      <td>0.0</td>\n",
       "      <td>0.0</td>\n",
       "      <td>2.0</td>\n",
       "      <td>0.0</td>\n",
       "      <td>2.0</td>\n",
       "      <td>0.0</td>\n",
       "      <td>0.0</td>\n",
       "      <td>25.0</td>\n",
       "      <td>2.0</td>\n",
       "    </tr>\n",
       "  </tbody>\n",
       "</table>\n",
       "</div>"
      ],
      "text/plain": [
       "         is_converted  lead_created_month  lead_created_day_of_week  \\\n",
       "user_id                                                               \n",
       "12                  0                   5                         4   \n",
       "14                  0                   5                         5   \n",
       "15                  1                   6                         1   \n",
       "16                  1                   7                         3   \n",
       "23                  1                   6                         1   \n",
       "\n",
       "         is_paidsocial_lead  is_organic_lead  is_seo_studios  \\\n",
       "user_id                                                        \n",
       "12                        0                1               0   \n",
       "14                        0                1               0   \n",
       "15                        0                1               0   \n",
       "16                        0                1               0   \n",
       "23                        0                1               0   \n",
       "\n",
       "         is_inviteafriend  is_email  is_referral  is_paidsocial  is_organic  \\\n",
       "user_id                                                                       \n",
       "12                      0         0            0              0           1   \n",
       "14                      0         0            0              0           1   \n",
       "15                      0         0            0              0           1   \n",
       "16                      0         0            0              0           1   \n",
       "23                      0         0            0              0           0   \n",
       "\n",
       "         user_acquisition_month  user_acquisition_day_of_week  promo_days  \\\n",
       "user_id                                                                     \n",
       "12                          9.0                           3.0         0.0   \n",
       "14                          9.0                           3.0         0.0   \n",
       "15                          9.0                           1.0         0.0   \n",
       "16                          8.0                           4.0         0.0   \n",
       "23                          8.0                           3.0        30.0   \n",
       "\n",
       "         lead_to_promo_days  is_three_studio_visits  is_two_studio_visits  \\\n",
       "user_id                                                                     \n",
       "12                        0                       1                     0   \n",
       "14                        0                       1                     0   \n",
       "15                        0                       0                     1   \n",
       "16                        0                       1                     0   \n",
       "23                      429                       0                     1   \n",
       "\n",
       "         is_four_studio_visits  is_onboarded  user_country  user_msa_id  \\\n",
       "user_id                                                                   \n",
       "12                           0             1           1.0          1.0   \n",
       "14                           0             1           1.0          1.0   \n",
       "15                           0             1           1.0          1.0   \n",
       "16                           0             1           1.0          1.0   \n",
       "23                           0             1           1.0          1.0   \n",
       "\n",
       "         avg_class_rating  avg_days_from_booking_to_class  avg_peak_classes  \\\n",
       "user_id                                                                       \n",
       "12                    0.0                            0.00              0.00   \n",
       "14                    0.0                            0.00              0.00   \n",
       "15                    0.0                            0.00              0.00   \n",
       "16                    0.0                            0.00              0.00   \n",
       "23                    5.0                            1.25              0.75   \n",
       "\n",
       "         reservations_attended_barre_count  \\\n",
       "user_id                                      \n",
       "12                                     0.0   \n",
       "14                                     0.0   \n",
       "15                                     0.0   \n",
       "16                                     0.0   \n",
       "23                                     0.0   \n",
       "\n",
       "         reservations_attended_boxing_count  \\\n",
       "user_id                                       \n",
       "12                                      0.0   \n",
       "14                                      0.0   \n",
       "15                                      0.0   \n",
       "16                                      0.0   \n",
       "23                                      0.0   \n",
       "\n",
       "         reservations_attended_cycling_count  \\\n",
       "user_id                                        \n",
       "12                                       0.0   \n",
       "14                                       0.0   \n",
       "15                                       0.0   \n",
       "16                                       0.0   \n",
       "23                                       0.0   \n",
       "\n",
       "         reservations_attended_dance_count  reservations_attended_gym_count  \\\n",
       "user_id                                                                       \n",
       "12                                     0.0                              0.0   \n",
       "14                                     0.0                              0.0   \n",
       "15                                     0.0                              0.0   \n",
       "16                                     0.0                              0.0   \n",
       "23                                     1.0                              0.0   \n",
       "\n",
       "         reservations_attended_martial_arts_count  \\\n",
       "user_id                                             \n",
       "12                                            0.0   \n",
       "14                                            0.0   \n",
       "15                                            0.0   \n",
       "16                                            0.0   \n",
       "23                                            0.0   \n",
       "\n",
       "         reservations_attended_pilates_count  \\\n",
       "user_id                                        \n",
       "12                                       0.0   \n",
       "14                                       0.0   \n",
       "15                                       0.0   \n",
       "16                                       0.0   \n",
       "23                                       0.0   \n",
       "\n",
       "         reservations_attended_rowing_count  \\\n",
       "user_id                                       \n",
       "12                                      0.0   \n",
       "14                                      0.0   \n",
       "15                                      0.0   \n",
       "16                                      0.0   \n",
       "23                                      0.0   \n",
       "\n",
       "         reservations_attended_strength_training_count  \\\n",
       "user_id                                                  \n",
       "12                                                 0.0   \n",
       "14                                                 0.0   \n",
       "15                                                 0.0   \n",
       "16                                                 0.0   \n",
       "23                                                 2.0   \n",
       "\n",
       "         reservations_attended_yoga_count  reservations_attended_t1_count  \\\n",
       "user_id                                                                     \n",
       "12                                    0.0                             0.0   \n",
       "14                                    0.0                             0.0   \n",
       "15                                    0.0                             0.0   \n",
       "16                                    0.0                             0.0   \n",
       "23                                    0.0                             0.0   \n",
       "\n",
       "         reservations_attended_t2_count  reservations_attended_t3_count  \\\n",
       "user_id                                                                   \n",
       "12                                  0.0                             0.0   \n",
       "14                                  0.0                             0.0   \n",
       "15                                  0.0                             0.0   \n",
       "16                                  0.0                             0.0   \n",
       "23                                  2.0                             0.0   \n",
       "\n",
       "         reservations_attended_count  reservations_missed_count  \\\n",
       "user_id                                                           \n",
       "12                               0.0                        0.0   \n",
       "14                               0.0                        0.0   \n",
       "15                               0.0                        0.0   \n",
       "16                               0.0                        0.0   \n",
       "23                               2.0                        0.0   \n",
       "\n",
       "         reservations_late_cancelled_count  \\\n",
       "user_id                                      \n",
       "12                                     0.0   \n",
       "14                                     0.0   \n",
       "15                                     0.0   \n",
       "16                                     0.0   \n",
       "23                                     0.0   \n",
       "\n",
       "         cost_of_all_reservations_in_usd_no_tax  distinct_venues_count  \n",
       "user_id                                                                 \n",
       "12                                          0.0                    0.0  \n",
       "14                                          0.0                    0.0  \n",
       "15                                          0.0                    0.0  \n",
       "16                                          0.0                    0.0  \n",
       "23                                         25.0                    2.0  "
      ]
     },
     "execution_count": 4,
     "metadata": {},
     "output_type": "execute_result"
    }
   ],
   "source": [
    "df = df.fillna(0)\n",
    "df.head()"
   ]
  },
  {
   "cell_type": "code",
   "execution_count": 5,
   "metadata": {
    "collapsed": false
   },
   "outputs": [
    {
     "data": {
      "text/plain": [
       "(592322, 42)"
      ]
     },
     "execution_count": 5,
     "metadata": {},
     "output_type": "execute_result"
    }
   ],
   "source": [
    "df.shape"
   ]
  },
  {
   "cell_type": "code",
   "execution_count": 6,
   "metadata": {
    "collapsed": false
   },
   "outputs": [
    {
     "data": {
      "text/plain": [
       "is_converted                                       int64\n",
       "lead_created_month                                 int64\n",
       "lead_created_day_of_week                           int64\n",
       "is_paidsocial_lead                                 int64\n",
       "is_organic_lead                                    int64\n",
       "is_seo_studios                                     int64\n",
       "is_inviteafriend                                   int64\n",
       "is_email                                           int64\n",
       "is_referral                                        int64\n",
       "is_paidsocial                                      int64\n",
       "is_organic                                         int64\n",
       "user_acquisition_month                           float64\n",
       "user_acquisition_day_of_week                     float64\n",
       "promo_days                                       float64\n",
       "lead_to_promo_days                                 int64\n",
       "is_three_studio_visits                             int64\n",
       "is_two_studio_visits                               int64\n",
       "is_four_studio_visits                              int64\n",
       "is_onboarded                                       int64\n",
       "user_country                                     float64\n",
       "user_msa_id                                      float64\n",
       "avg_class_rating                                 float64\n",
       "avg_days_from_booking_to_class                   float64\n",
       "avg_peak_classes                                 float64\n",
       "reservations_attended_barre_count                float64\n",
       "reservations_attended_boxing_count               float64\n",
       "reservations_attended_cycling_count              float64\n",
       "reservations_attended_dance_count                float64\n",
       "reservations_attended_gym_count                  float64\n",
       "reservations_attended_martial_arts_count         float64\n",
       "reservations_attended_pilates_count              float64\n",
       "reservations_attended_rowing_count               float64\n",
       "reservations_attended_strength_training_count    float64\n",
       "reservations_attended_yoga_count                 float64\n",
       "reservations_attended_t1_count                   float64\n",
       "reservations_attended_t2_count                   float64\n",
       "reservations_attended_t3_count                   float64\n",
       "reservations_attended_count                      float64\n",
       "reservations_missed_count                        float64\n",
       "reservations_late_cancelled_count                float64\n",
       "cost_of_all_reservations_in_usd_no_tax           float64\n",
       "distinct_venues_count                            float64\n",
       "dtype: object"
      ]
     },
     "execution_count": 6,
     "metadata": {},
     "output_type": "execute_result"
    }
   ],
   "source": [
    "df.dtypes"
   ]
  },
  {
   "cell_type": "markdown",
   "metadata": {},
   "source": [
    "#### 3) Split Data into X, Y, test & train"
   ]
  },
  {
   "cell_type": "code",
   "execution_count": 7,
   "metadata": {
    "collapsed": true
   },
   "outputs": [],
   "source": [
    "X = df.drop('is_converted', axis=1)\n",
    "y = df['is_converted'].astype(int)"
   ]
  },
  {
   "cell_type": "code",
   "execution_count": 8,
   "metadata": {
    "collapsed": false
   },
   "outputs": [],
   "source": [
    "from sklearn.model_selection import train_test_split\n",
    "X_train, X_test, y_train, y_test = train_test_split(X, y, test_size=0.2)"
   ]
  },
  {
   "cell_type": "markdown",
   "metadata": {},
   "source": [
    "#### 4) Create Calculation for Model Results"
   ]
  },
  {
   "cell_type": "code",
   "execution_count": 9,
   "metadata": {
    "collapsed": true
   },
   "outputs": [],
   "source": [
    "def format_model_results(sklearn_model, X_train, X_test, y_train, y_test):\n",
    "    # Get the model's class name (E.g. LogisticRegression, KNearestNeighbor, etc.) and store it to a string\n",
    "    model_class_name = sklearn_model.__class__.__name__  \n",
    "    \n",
    "    y_test_pred   = sklearn_model.predict(X_test)\n",
    "    y_train_pred  = sklearn_model.predict(X_train)\n",
    "\n",
    "    accuracy_score  = metrics.accuracy_score(y_test, y_test_pred)\n",
    "    precision_score = metrics.precision_score(y_test, y_test_pred, average='binary')\n",
    "    recall_score    = metrics.recall_score(y_test, y_test_pred, average='binary')\n",
    "    f1_score        = metrics.f1_score(y_test, y_test_pred, average='binary')\n",
    "    f1_score_train  = metrics.f1_score(y_train, y_train_pred, average='binary')\n",
    "    \n",
    "    return pd.DataFrame({\n",
    "            \"Accuracy\": accuracy_score, \n",
    "            \"Precision\": precision_score, \n",
    "            \"Recall\": recall_score, \n",
    "            \"F1 score\": f1_score, \n",
    "            \"F1 score (train)\": f1_score_train\n",
    "        }, index=[model_class_name])"
   ]
  },
  {
   "cell_type": "markdown",
   "metadata": {},
   "source": [
    "#### 5) Run Feature Extraction Models\n",
    "#### By running multiple classifier models, we can combine business judgement with model results to determine which features should be kept\n",
    "##### Model A: Decision Tree Classifier`"
   ]
  },
  {
   "cell_type": "code",
   "execution_count": 10,
   "metadata": {
    "collapsed": false
   },
   "outputs": [],
   "source": [
    "dtc = DecisionTreeClassifier()    \n",
    "dtc.fit(X, y)\n",
    "\n",
    "def build_tree_image(dtc):\n",
    "    dotfile = open(\"tree.dot\", 'w')\n",
    "    export_graphviz(dtc, out_file = dotfile, feature_names = X.columns)\n",
    "    dotfile.close()\n",
    "    os.system(\"dot -Tpng tree.dot -o tree.png\")\n",
    "\n",
    "dtc = DecisionTreeClassifier(\n",
    "                max_depth = 5,\n",
    "                min_samples_leaf = 10)\n",
    "\n",
    "dtc.fit(X, y)\n",
    "build_tree_image(dtc)"
   ]
  },
  {
   "cell_type": "code",
   "execution_count": 11,
   "metadata": {
    "collapsed": false
   },
   "outputs": [],
   "source": [
    "dtc = DecisionTreeClassifier(\n",
    "                max_depth = 5,\n",
    "                min_samples_leaf = 10)\n",
    "\n",
    "dtc.fit(X, y)\n",
    "build_tree_image(dtc)"
   ]
  },
  {
   "cell_type": "code",
   "execution_count": 12,
   "metadata": {
    "collapsed": false
   },
   "outputs": [
    {
     "data": {
      "text/html": [
       "<div>\n",
       "<table border=\"1\" class=\"dataframe\">\n",
       "  <thead>\n",
       "    <tr style=\"text-align: right;\">\n",
       "      <th></th>\n",
       "      <th>Accuracy</th>\n",
       "      <th>F1 score</th>\n",
       "      <th>F1 score (train)</th>\n",
       "      <th>Precision</th>\n",
       "      <th>Recall</th>\n",
       "    </tr>\n",
       "  </thead>\n",
       "  <tbody>\n",
       "    <tr>\n",
       "      <th>DecisionTreeClassifier</th>\n",
       "      <td>0.756629</td>\n",
       "      <td>0.811322</td>\n",
       "      <td>0.811626</td>\n",
       "      <td>0.814921</td>\n",
       "      <td>0.807753</td>\n",
       "    </tr>\n",
       "  </tbody>\n",
       "</table>\n",
       "</div>"
      ],
      "text/plain": [
       "                        Accuracy  F1 score  F1 score (train)  Precision  \\\n",
       "DecisionTreeClassifier  0.756629  0.811322          0.811626   0.814921   \n",
       "\n",
       "                          Recall  \n",
       "DecisionTreeClassifier  0.807753  "
      ]
     },
     "execution_count": 12,
     "metadata": {},
     "output_type": "execute_result"
    }
   ],
   "source": [
    "format_model_results(dtc, X_train, X_test, y_train, y_test)"
   ]
  },
  {
   "cell_type": "markdown",
   "metadata": {},
   "source": [
    "##### Model B: Random Forest Classifier"
   ]
  },
  {
   "cell_type": "code",
   "execution_count": 13,
   "metadata": {
    "collapsed": false
   },
   "outputs": [
    {
     "data": {
      "text/plain": [
       "RandomForestClassifier(bootstrap=True, class_weight=None, criterion='gini',\n",
       "            max_depth=None, max_features='auto', max_leaf_nodes=None,\n",
       "            min_impurity_split=1e-07, min_samples_leaf=1,\n",
       "            min_samples_split=2, min_weight_fraction_leaf=0.0,\n",
       "            n_estimators=30, n_jobs=1, oob_score=False, random_state=None,\n",
       "            verbose=0, warm_start=False)"
      ]
     },
     "execution_count": 13,
     "metadata": {},
     "output_type": "execute_result"
    }
   ],
   "source": [
    "rfc = RandomForestClassifier(n_estimators = 30)\n",
    "rfc.fit(X_train, y_train)"
   ]
  },
  {
   "cell_type": "code",
   "execution_count": 14,
   "metadata": {
    "collapsed": false
   },
   "outputs": [
    {
     "data": {
      "text/html": [
       "<div>\n",
       "<table border=\"1\" class=\"dataframe\">\n",
       "  <thead>\n",
       "    <tr style=\"text-align: right;\">\n",
       "      <th></th>\n",
       "      <th>Accuracy</th>\n",
       "      <th>F1 score</th>\n",
       "      <th>F1 score (train)</th>\n",
       "      <th>Precision</th>\n",
       "      <th>Recall</th>\n",
       "    </tr>\n",
       "  </thead>\n",
       "  <tbody>\n",
       "    <tr>\n",
       "      <th>RandomForestClassifier</th>\n",
       "      <td>0.789018</td>\n",
       "      <td>0.838027</td>\n",
       "      <td>0.995999</td>\n",
       "      <td>0.833544</td>\n",
       "      <td>0.842559</td>\n",
       "    </tr>\n",
       "  </tbody>\n",
       "</table>\n",
       "</div>"
      ],
      "text/plain": [
       "                        Accuracy  F1 score  F1 score (train)  Precision  \\\n",
       "RandomForestClassifier  0.789018  0.838027          0.995999   0.833544   \n",
       "\n",
       "                          Recall  \n",
       "RandomForestClassifier  0.842559  "
      ]
     },
     "execution_count": 14,
     "metadata": {},
     "output_type": "execute_result"
    }
   ],
   "source": [
    "format_model_results(rfc, X_train, X_test, y_train, y_test)"
   ]
  },
  {
   "cell_type": "code",
   "execution_count": 15,
   "metadata": {
    "collapsed": false
   },
   "outputs": [
    {
     "name": "stdout",
     "output_type": "stream",
     "text": [
      "                                         Features  Importance Score\n",
      "12                                     promo_days          0.132080\n",
      "39         cost_of_all_reservations_in_usd_no_tax          0.082678\n",
      "10                         user_acquisition_month          0.066574\n",
      "40                          distinct_venues_count          0.058316\n",
      "19                                    user_msa_id          0.047001\n",
      "21                 avg_days_from_booking_to_class          0.044429\n",
      "20                               avg_class_rating          0.044222\n",
      "22                               avg_peak_classes          0.043897\n",
      "0                              lead_created_month          0.043265\n",
      "36                    reservations_attended_count          0.037600\n",
      "13                             lead_to_promo_days          0.035023\n",
      "11                   user_acquisition_day_of_week          0.032050\n",
      "1                        lead_created_day_of_week          0.030349\n",
      "33                 reservations_attended_t1_count          0.026686\n",
      "14                         is_three_studio_visits          0.025453\n",
      "31  reservations_attended_strength_training_count          0.019485\n",
      "9                                      is_organic          0.018827\n",
      "34                 reservations_attended_t2_count          0.017898\n",
      "32               reservations_attended_yoga_count          0.017204\n",
      "25            reservations_attended_cycling_count          0.016027\n",
      "29            reservations_attended_pilates_count          0.015466\n",
      "23              reservations_attended_barre_count          0.014833\n",
      "35                 reservations_attended_t3_count          0.013460\n",
      "17                                   is_onboarded          0.012595\n",
      "15                           is_two_studio_visits          0.012411\n",
      "8                                   is_paidsocial          0.011345\n",
      "26              reservations_attended_dance_count          0.009745\n",
      "38              reservations_late_cancelled_count          0.008418\n",
      "3                                 is_organic_lead          0.007995\n",
      "18                                   user_country          0.007386\n",
      "24             reservations_attended_boxing_count          0.007191\n",
      "7                                     is_referral          0.006536\n",
      "37                      reservations_missed_count          0.006451\n",
      "6                                        is_email          0.005869\n",
      "2                              is_paidsocial_lead          0.004352\n",
      "30             reservations_attended_rowing_count          0.004240\n",
      "28       reservations_attended_martial_arts_count          0.003844\n",
      "27                reservations_attended_gym_count          0.003430\n",
      "5                                is_inviteafriend          0.002678\n",
      "16                          is_four_studio_visits          0.001922\n",
      "4                                  is_seo_studios          0.000771\n"
     ]
    }
   ],
   "source": [
    "features = X.columns\n",
    "feature_importances = rfc.feature_importances_\n",
    "\n",
    "features_rfc = pd.DataFrame({'Features': features, 'Importance Score': feature_importances})\n",
    "features_rfc.sort_values('Importance Score', inplace=True, ascending=False)\n",
    "\n",
    "print features_rfc"
   ]
  },
  {
   "cell_type": "code",
   "execution_count": 16,
   "metadata": {
    "collapsed": false
   },
   "outputs": [
    {
     "name": "stdout",
     "output_type": "stream",
     "text": [
      "CV Accuracy [ 0.65540592  0.47523058  0.40814931], Average Accuracy 0.512928601708\n",
      "n trees: 1, CV accuracy [ 0.65823208  0.50037733  0.43122468], Average accuracy 0.529944694406\n",
      "n trees: 31, CV accuracy [ 0.6555376   0.47677028  0.41138067], Average accuracy 0.514562850642\n",
      "n trees: 61, CV accuracy [ 0.65528943  0.47682599  0.41904882], Average accuracy 0.517054747239\n",
      "n trees: 91, CV accuracy [ 0.65523372  0.47685638  0.39896677], Average accuracy 0.510352289151\n",
      "n trees: 121, CV accuracy [ 0.65493489  0.47707416  0.40991694], Average accuracy 0.513975330887\n",
      "n trees: 151, CV accuracy [ 0.65493996  0.47587381  0.40924331], Average accuracy 0.513352358837\n",
      "n trees: 181, CV accuracy [ 0.65515774  0.47549901  0.41617707], Average accuracy 0.515611273202\n"
     ]
    }
   ],
   "source": [
    "scores = cross_val_score(rfc, X, y, scoring='accuracy')\n",
    "print('CV Accuracy {}, Average Accuracy {}'.format(scores, scores.mean()))\n",
    "\n",
    "for n_trees in range(1, 211, 30):\n",
    "    model = RandomForestClassifier(n_estimators = n_trees)\n",
    "    scores = cross_val_score(model, X, y, scoring='accuracy')\n",
    "    print('n trees: {}, CV accuracy {}, Average accuracy {}'.format(n_trees, scores, scores.mean()))"
   ]
  },
  {
   "cell_type": "markdown",
   "metadata": {},
   "source": [
    "##### Model C: Extra Trees Classifier"
   ]
  },
  {
   "cell_type": "code",
   "execution_count": 17,
   "metadata": {
    "collapsed": false
   },
   "outputs": [
    {
     "data": {
      "text/plain": [
       "ExtraTreesClassifier(bootstrap=False, class_weight=None, criterion='gini',\n",
       "           max_depth=None, max_features='auto', max_leaf_nodes=None,\n",
       "           min_impurity_split=1e-07, min_samples_leaf=1,\n",
       "           min_samples_split=2, min_weight_fraction_leaf=0.0,\n",
       "           n_estimators=10, n_jobs=1, oob_score=False, random_state=None,\n",
       "           verbose=0, warm_start=False)"
      ]
     },
     "execution_count": 17,
     "metadata": {},
     "output_type": "execute_result"
    }
   ],
   "source": [
    "etc = ExtraTreesClassifier()\n",
    "etc.fit(X, y)"
   ]
  },
  {
   "cell_type": "code",
   "execution_count": 18,
   "metadata": {
    "collapsed": false
   },
   "outputs": [
    {
     "name": "stdout",
     "output_type": "stream",
     "text": [
      "                                               importance\n",
      "feature                                                  \n",
      "avg_class_rating                                    0.067\n",
      "user_acquisition_month                              0.065\n",
      "promo_days                                          0.060\n",
      "is_organic                                          0.058\n",
      "is_two_studio_visits                                0.051\n",
      "lead_created_month                                  0.048\n",
      "avg_peak_classes                                    0.044\n",
      "user_msa_id                                         0.043\n",
      "cost_of_all_reservations_in_usd_no_tax              0.038\n",
      "user_acquisition_day_of_week                        0.034\n",
      "avg_days_from_booking_to_class                      0.033\n",
      "is_onboarded                                        0.031\n",
      "lead_created_day_of_week                            0.031\n",
      "lead_to_promo_days                                  0.030\n",
      "distinct_venues_count                               0.029\n",
      "reservations_attended_t1_count                      0.025\n",
      "reservations_attended_strength_training_count       0.023\n",
      "reservations_attended_count                         0.023\n",
      "reservations_attended_t2_count                      0.022\n",
      "is_paidsocial                                       0.022\n",
      "reservations_attended_yoga_count                    0.021\n",
      "reservations_attended_cycling_count                 0.020\n",
      "reservations_attended_pilates_count                 0.019\n",
      "reservations_attended_barre_count                   0.019\n",
      "reservations_attended_t3_count                      0.017\n",
      "reservations_attended_dance_count                   0.014\n",
      "reservations_late_cancelled_count                   0.013\n",
      "is_three_studio_visits                              0.012\n",
      "is_organic_lead                                     0.012\n",
      "reservations_attended_boxing_count                  0.011\n",
      "reservations_missed_count                           0.011\n",
      "is_email                                            0.008\n",
      "user_country                                        0.008\n",
      "is_referral                                         0.007\n",
      "reservations_attended_rowing_count                  0.007\n",
      "reservations_attended_martial_arts_count            0.006\n",
      "is_inviteafriend                                    0.006\n",
      "reservations_attended_gym_count                     0.005\n",
      "is_paidsocial_lead                                  0.005\n",
      "is_four_studio_visits                               0.002\n",
      "is_seo_studios                                      0.001\n"
     ]
    },
    {
     "data": {
      "text/plain": [
       "<matplotlib.axes._subplots.AxesSubplot at 0x1190cb590>"
      ]
     },
     "execution_count": 18,
     "metadata": {},
     "output_type": "execute_result"
    },
    {
     "data": {
      "image/png": "[encoded data removed]",
      "text/plain": [
       "<matplotlib.figure.Figure at 0x1178aded0>"
      ]
     },
     "metadata": {},
     "output_type": "display_data"
    }
   ],
   "source": [
    "importances = pd.DataFrame({'feature':X_train.columns,'importance':np.round(etc.feature_importances_,3)})\n",
    "importances = importances.sort_values('importance',ascending=False).set_index('feature')\n",
    "print importances\n",
    "importances.plot.bar()"
   ]
  },
  {
   "cell_type": "code",
   "execution_count": 19,
   "metadata": {
    "collapsed": false
   },
   "outputs": [
    {
     "data": {
      "text/html": [
       "<div>\n",
       "<table border=\"1\" class=\"dataframe\">\n",
       "  <thead>\n",
       "    <tr style=\"text-align: right;\">\n",
       "      <th></th>\n",
       "      <th>Accuracy</th>\n",
       "      <th>F1 score</th>\n",
       "      <th>F1 score (train)</th>\n",
       "      <th>Precision</th>\n",
       "      <th>Recall</th>\n",
       "    </tr>\n",
       "  </thead>\n",
       "  <tbody>\n",
       "    <tr>\n",
       "      <th>ExtraTreesClassifier</th>\n",
       "      <td>0.9948</td>\n",
       "      <td>0.995981</td>\n",
       "      <td>0.996053</td>\n",
       "      <td>0.997373</td>\n",
       "      <td>0.994592</td>\n",
       "    </tr>\n",
       "  </tbody>\n",
       "</table>\n",
       "</div>"
      ],
      "text/plain": [
       "                      Accuracy  F1 score  F1 score (train)  Precision  \\\n",
       "ExtraTreesClassifier    0.9948  0.995981          0.996053   0.997373   \n",
       "\n",
       "                        Recall  \n",
       "ExtraTreesClassifier  0.994592  "
      ]
     },
     "execution_count": 19,
     "metadata": {},
     "output_type": "execute_result"
    }
   ],
   "source": [
    "format_model_results(etc, X_train, X_test, y_train, y_test)"
   ]
  },
  {
   "cell_type": "markdown",
   "metadata": {},
   "source": [
    "#### 6) Drop Variables from Model\n",
    "##### Results from three classifier models plus knowledge of which features are correlated allowed me to reduce features to 10"
   ]
  },
  {
   "cell_type": "code",
   "execution_count": 20,
   "metadata": {
    "collapsed": true
   },
   "outputs": [],
   "source": [
    "df2 = df[['is_converted','is_organic','promo_days','user_acquisition_month','cost_of_all_reservations_in_usd_no_tax','avg_class_rating','avg_peak_classes','avg_days_from_booking_to_class','user_msa_id','is_onboarded','distinct_venues_count']]"
   ]
  },
  {
   "cell_type": "code",
   "execution_count": 21,
   "metadata": {
    "collapsed": true
   },
   "outputs": [],
   "source": [
    "X = df2.drop('is_converted', axis=1)\n",
    "y = df2['is_converted'].astype(int)\n",
    "\n",
    "X_train, X_test, y_train, y_test = train_test_split(X, y, test_size=0.2)"
   ]
  },
  {
   "cell_type": "code",
   "execution_count": 22,
   "metadata": {
    "collapsed": false
   },
   "outputs": [
    {
     "data": {
      "text/plain": [
       "(592322, 11)"
      ]
     },
     "execution_count": 22,
     "metadata": {},
     "output_type": "execute_result"
    }
   ],
   "source": [
    "df2.shape"
   ]
  },
  {
   "cell_type": "markdown",
   "metadata": {},
   "source": [
    "#### Rerun Model A: Decision Tree Classifier"
   ]
  },
  {
   "cell_type": "code",
   "execution_count": 23,
   "metadata": {
    "collapsed": false
   },
   "outputs": [
    {
     "data": {
      "text/html": [
       "<div>\n",
       "<table border=\"1\" class=\"dataframe\">\n",
       "  <thead>\n",
       "    <tr style=\"text-align: right;\">\n",
       "      <th></th>\n",
       "      <th>Accuracy</th>\n",
       "      <th>F1 score</th>\n",
       "      <th>F1 score (train)</th>\n",
       "      <th>Precision</th>\n",
       "      <th>Recall</th>\n",
       "    </tr>\n",
       "  </thead>\n",
       "  <tbody>\n",
       "    <tr>\n",
       "      <th>DecisionTreeClassifier</th>\n",
       "      <td>0.753818</td>\n",
       "      <td>0.80673</td>\n",
       "      <td>0.80684</td>\n",
       "      <td>0.823272</td>\n",
       "      <td>0.79084</td>\n",
       "    </tr>\n",
       "  </tbody>\n",
       "</table>\n",
       "</div>"
      ],
      "text/plain": [
       "                        Accuracy  F1 score  F1 score (train)  Precision  \\\n",
       "DecisionTreeClassifier  0.753818   0.80673           0.80684   0.823272   \n",
       "\n",
       "                         Recall  \n",
       "DecisionTreeClassifier  0.79084  "
      ]
     },
     "execution_count": 23,
     "metadata": {},
     "output_type": "execute_result"
    }
   ],
   "source": [
    "dtc = DecisionTreeClassifier( max_depth = 5, min_samples_leaf = 10)\n",
    "\n",
    "dtc.fit(X, y)\n",
    "build_tree_image(dtc)\n",
    "\n",
    "format_model_results(dtc, X_train, X_test, y_train, y_test)"
   ]
  },
  {
   "cell_type": "markdown",
   "metadata": {},
   "source": [
    "#### Rerun Model B: Random Forest Classifier"
   ]
  },
  {
   "cell_type": "code",
   "execution_count": 24,
   "metadata": {
    "collapsed": false
   },
   "outputs": [
    {
     "data": {
      "text/html": [
       "<div>\n",
       "<table border=\"1\" class=\"dataframe\">\n",
       "  <thead>\n",
       "    <tr style=\"text-align: right;\">\n",
       "      <th></th>\n",
       "      <th>Accuracy</th>\n",
       "      <th>F1 score</th>\n",
       "      <th>F1 score (train)</th>\n",
       "      <th>Precision</th>\n",
       "      <th>Recall</th>\n",
       "    </tr>\n",
       "  </thead>\n",
       "  <tbody>\n",
       "    <tr>\n",
       "      <th>RandomForestClassifier</th>\n",
       "      <td>0.772903</td>\n",
       "      <td>0.825951</td>\n",
       "      <td>0.984703</td>\n",
       "      <td>0.822539</td>\n",
       "      <td>0.82939</td>\n",
       "    </tr>\n",
       "  </tbody>\n",
       "</table>\n",
       "</div>"
      ],
      "text/plain": [
       "                        Accuracy  F1 score  F1 score (train)  Precision  \\\n",
       "RandomForestClassifier  0.772903  0.825951          0.984703   0.822539   \n",
       "\n",
       "                         Recall  \n",
       "RandomForestClassifier  0.82939  "
      ]
     },
     "execution_count": 24,
     "metadata": {},
     "output_type": "execute_result"
    }
   ],
   "source": [
    "rfc = RandomForestClassifier(n_estimators = 30)\n",
    "rfc.fit(X_train, y_train)\n",
    "\n",
    "format_model_results(rfc, X_train, X_test, y_train, y_test)"
   ]
  },
  {
   "cell_type": "markdown",
   "metadata": {},
   "source": [
    "#### Rerun Model C: Extra Trees Classifier"
   ]
  },
  {
   "cell_type": "code",
   "execution_count": 25,
   "metadata": {
    "collapsed": false
   },
   "outputs": [
    {
     "data": {
      "text/html": [
       "<div>\n",
       "<table border=\"1\" class=\"dataframe\">\n",
       "  <thead>\n",
       "    <tr style=\"text-align: right;\">\n",
       "      <th></th>\n",
       "      <th>Accuracy</th>\n",
       "      <th>F1 score</th>\n",
       "      <th>F1 score (train)</th>\n",
       "      <th>Precision</th>\n",
       "      <th>Recall</th>\n",
       "    </tr>\n",
       "  </thead>\n",
       "  <tbody>\n",
       "    <tr>\n",
       "      <th>ExtraTreesClassifier</th>\n",
       "      <td>0.979749</td>\n",
       "      <td>0.984354</td>\n",
       "      <td>0.984704</td>\n",
       "      <td>0.98824</td>\n",
       "      <td>0.980498</td>\n",
       "    </tr>\n",
       "  </tbody>\n",
       "</table>\n",
       "</div>"
      ],
      "text/plain": [
       "                      Accuracy  F1 score  F1 score (train)  Precision  \\\n",
       "ExtraTreesClassifier  0.979749  0.984354          0.984704    0.98824   \n",
       "\n",
       "                        Recall  \n",
       "ExtraTreesClassifier  0.980498  "
      ]
     },
     "execution_count": 25,
     "metadata": {},
     "output_type": "execute_result"
    }
   ],
   "source": [
    "etc = ExtraTreesClassifier()\n",
    "etc.fit(X, y)\n",
    "\n",
    "format_model_results(etc, X_train, X_test, y_train, y_test)"
   ]
  },
  {
   "cell_type": "markdown",
   "metadata": {},
   "source": [
    "#### Now that we have less features, we can run more models that require more computing power! With 41 variables, KNN and Logistic Regression were too expensive. But with 10 variables, we can now run both\n",
    "\n",
    "#### Run Model D: Logistic Regression"
   ]
  },
  {
   "cell_type": "code",
   "execution_count": 26,
   "metadata": {
    "collapsed": true
   },
   "outputs": [],
   "source": [
    "stdsc = StandardScaler()\n",
    "X_train_std = stdsc.fit_transform(X_train)\n",
    "X_test_std = stdsc.transform(X_test)\n",
    "logreg = LogisticRegression(penalty='l2', C=10)"
   ]
  },
  {
   "cell_type": "code",
   "execution_count": 27,
   "metadata": {
    "collapsed": false
   },
   "outputs": [
    {
     "data": {
      "text/plain": [
       "[('is_organic', 1.2879495089917192),\n",
       " ('promo_days', -0.1911035250665386),\n",
       " ('user_acquisition_month', 0.36445572936637599),\n",
       " ('cost_of_all_reservations_in_usd_no_tax', 0.38292801621685946),\n",
       " ('avg_class_rating', -0.30480717637492194),\n",
       " ('avg_peak_classes', -0.13210015766685915),\n",
       " ('avg_days_from_booking_to_class', -0.11980167005896193),\n",
       " ('user_msa_id', -0.087128071144957034),\n",
       " ('is_onboarded', 0.35270721825219126),\n",
       " ('distinct_venues_count', 0.26933484207958386)]"
      ]
     },
     "execution_count": 27,
     "metadata": {},
     "output_type": "execute_result"
    }
   ],
   "source": [
    "logreg.fit(X_train_std, y_train)\n",
    "zip(X, logreg.coef_[0])"
   ]
  },
  {
   "cell_type": "code",
   "execution_count": 28,
   "metadata": {
    "collapsed": true
   },
   "outputs": [],
   "source": [
    "y_pred_class = logreg.predict(X_test_std)"
   ]
  },
  {
   "cell_type": "code",
   "execution_count": 29,
   "metadata": {
    "collapsed": false
   },
   "outputs": [
    {
     "data": {
      "text/html": [
       "<div>\n",
       "<table border=\"1\" class=\"dataframe\">\n",
       "  <thead>\n",
       "    <tr style=\"text-align: right;\">\n",
       "      <th></th>\n",
       "      <th>Accuracy</th>\n",
       "      <th>F1 score</th>\n",
       "      <th>F1 score (train)</th>\n",
       "      <th>Precision</th>\n",
       "      <th>Recall</th>\n",
       "    </tr>\n",
       "  </thead>\n",
       "  <tbody>\n",
       "    <tr>\n",
       "      <th>LogisticRegression</th>\n",
       "      <td>0.677365</td>\n",
       "      <td>0.792425</td>\n",
       "      <td>0.792236</td>\n",
       "      <td>0.680766</td>\n",
       "      <td>0.947898</td>\n",
       "    </tr>\n",
       "  </tbody>\n",
       "</table>\n",
       "</div>"
      ],
      "text/plain": [
       "                    Accuracy  F1 score  F1 score (train)  Precision    Recall\n",
       "LogisticRegression  0.677365  0.792425          0.792236   0.680766  0.947898"
      ]
     },
     "execution_count": 29,
     "metadata": {},
     "output_type": "execute_result"
    }
   ],
   "source": [
    "format_model_results(logreg, X_train, X_test, y_train, y_test)"
   ]
  },
  {
   "cell_type": "markdown",
   "metadata": {
    "collapsed": false
   },
   "source": [
    "#### Run Model E: K Nearest Neighbors"
   ]
  },
  {
   "cell_type": "code",
   "execution_count": 30,
   "metadata": {
    "collapsed": false
   },
   "outputs": [
    {
     "name": "stdout",
     "output_type": "stream",
     "text": [
      "[ 0.76565181  0.76496173  0.76531329]\n"
     ]
    }
   ],
   "source": [
    "cv = ShuffleSplit(n_splits=5, test_size=0.3, random_state=0)\n",
    "\n",
    "knn = KNeighborsClassifier(n_neighbors=15,weights='uniform', p=2)\n",
    "score = cross_val_score(knn, X_train_std, y_train, scoring='accuracy')\n",
    "print score"
   ]
  },
  {
   "cell_type": "code",
   "execution_count": 31,
   "metadata": {
    "collapsed": false
   },
   "outputs": [
    {
     "data": {
      "text/plain": [
       "KNeighborsClassifier(algorithm='auto', leaf_size=30, metric='minkowski',\n",
       "           metric_params=None, n_jobs=1, n_neighbors=15, p=2,\n",
       "           weights='uniform')"
      ]
     },
     "execution_count": 31,
     "metadata": {},
     "output_type": "execute_result"
    }
   ],
   "source": [
    "knn.fit(X, y)"
   ]
  },
  {
   "cell_type": "code",
   "execution_count": 32,
   "metadata": {
    "collapsed": false
   },
   "outputs": [
    {
     "data": {
      "text/html": [
       "<div>\n",
       "<table border=\"1\" class=\"dataframe\">\n",
       "  <thead>\n",
       "    <tr style=\"text-align: right;\">\n",
       "      <th></th>\n",
       "      <th>Accuracy</th>\n",
       "      <th>F1 score</th>\n",
       "      <th>F1 score (train)</th>\n",
       "      <th>Precision</th>\n",
       "      <th>Recall</th>\n",
       "    </tr>\n",
       "  </thead>\n",
       "  <tbody>\n",
       "    <tr>\n",
       "      <th>KNeighborsClassifier</th>\n",
       "      <td>0.652581</td>\n",
       "      <td>0.785698</td>\n",
       "      <td>0.785127</td>\n",
       "      <td>0.655571</td>\n",
       "      <td>0.980277</td>\n",
       "    </tr>\n",
       "  </tbody>\n",
       "</table>\n",
       "</div>"
      ],
      "text/plain": [
       "                      Accuracy  F1 score  F1 score (train)  Precision  \\\n",
       "KNeighborsClassifier  0.652581  0.785698          0.785127   0.655571   \n",
       "\n",
       "                        Recall  \n",
       "KNeighborsClassifier  0.980277  "
      ]
     },
     "execution_count": 32,
     "metadata": {},
     "output_type": "execute_result"
    }
   ],
   "source": [
    "format_model_results(knn, X_train_std, X_test_std, y_train, y_test)"
   ]
  },
  {
   "cell_type": "markdown",
   "metadata": {},
   "source": [
    "### 7) Show Relationship with Two Strongest Independent Variables"
   ]
  },
  {
   "cell_type": "markdown",
   "metadata": {},
   "source": [
    "#### Organic members are the most likely to convert!"
   ]
  },
  {
   "cell_type": "code",
   "execution_count": 33,
   "metadata": {
    "collapsed": false
   },
   "outputs": [
    {
     "data": {
      "text/plain": [
       "<matplotlib.axes._subplots.AxesSubplot at 0x1043c2d10>"
      ]
     },
     "execution_count": 33,
     "metadata": {},
     "output_type": "execute_result"
    },
    {
     "data": {
      "image/png": "[encoded data removed]",
      "text/plain": [
       "<matplotlib.figure.Figure at 0x117effcd0>"
      ]
     },
     "metadata": {},
     "output_type": "display_data"
    }
   ],
   "source": [
    "sns.countplot( x='is_organic', hue='is_converted', data=df)"
   ]
  },
  {
   "cell_type": "markdown",
   "metadata": {},
   "source": [
    "#### User Acquisition Month is extremely important due to seasonality!"
   ]
  },
  {
   "cell_type": "code",
   "execution_count": 36,
   "metadata": {
    "collapsed": false
   },
   "outputs": [
    {
     "data": {
      "text/plain": [
       "<matplotlib.axes._subplots.AxesSubplot at 0x117f59790>"
      ]
     },
     "execution_count": 36,
     "metadata": {},
     "output_type": "execute_result"
    },
    {
     "data": {
      "image/png": "[encoded data removed]",
      "text/plain": [
       "<matplotlib.figure.Figure at 0x117d9c1d0>"
      ]
     },
     "metadata": {},
     "output_type": "display_data"
    }
   ],
   "source": [
    "sns.countplot(x='user_acquisition_month',data=df)"
   ]
  },
  {
   "cell_type": "code",
   "execution_count": 34,
   "metadata": {
    "collapsed": false
   },
   "outputs": [
    {
     "data": {
      "text/plain": [
       "<seaborn.axisgrid.FacetGrid at 0x117eb3550>"
      ]
     },
     "execution_count": 34,
     "metadata": {},
     "output_type": "execute_result"
    },
    {
     "data": {
      "image/png": "[encoded data removed]",
      "text/plain": [
       "<matplotlib.figure.Figure at 0x1180d1e50>"
      ]
     },
     "metadata": {},
     "output_type": "display_data"
    }
   ],
   "source": [
    "sns.factorplot(\"is_converted\", col=\"user_acquisition_month\", col_wrap=5,data=df, kind=\"count\", size=2.5, aspect=1)"
   ]
  },
  {
   "cell_type": "markdown",
   "metadata": {},
   "source": [
    "#### 8) Conclusion"
   ]
  },
  {
   "cell_type": "markdown",
   "metadata": {},
   "source": [
    "By running the three classificaiton models, I was able to prove that there are many indicators besides promo alias and marketing channel that are more important in determining if a member will convert to a subscriber. After running the initial 41 variables, I was able to reduce the variables by 75% to 10 variables with minimal impact on the model's performance. With less variables, I was able to run even more models - Logistic Regression and K Nearest Neighbors.\n",
    "\n",
    "In reviewing all models' performances with accuracy, precision, recall, and F1 scores, it became apparent that different models would be better depending on the business need. Decision Tree and Random Forest Classifer models were the best for accuracy and precision. These models should be used when we care about being precise of the inverse of conversion - trial churn. We do not want to potentially target someone that will convert with messaging that could make them churn. On the other hand, Logistic Regression and KNN are better for recall. These models will be better for messaging people we think are likely to convert and further encouraging them to do things that improve the likelihood of conversion. Extra Trees Classifier was the best across all scoring methods, but I would like to spend more time checking this model is not overfitting. \n",
    "\n",
    "Ultimately, the cost of being wrong will need to be weighed against the benefit of being right in determining the best model."
   ]
  },
  {
   "cell_type": "markdown",
   "metadata": {},
   "source": [
    "#### 9) Areas for Improvement"
   ]
  },
  {
   "cell_type": "markdown",
   "metadata": {},
   "source": [
    "- Determine feature transformations needed to improve Accuracy & Precision of the Logistic Regression\n",
    "- Learn more about our organic members. When they heard about ClassPass? How they heard about ClassPass? What made them decide to join? How has this changed over time?\n",
    "- Reduce features count in models to make even more robust\n",
    "\n"
   ]
  }
 ],
 "metadata": {
  "anaconda-cloud": {},
  "kernelspec": {
   "display_name": "Python [conda root]",
   "language": "python",
   "name": "conda-root-py"
  },
  "language_info": {
   "codemirror_mode": {
    "name": "ipython",
    "version": 2
   },
   "file_extension": ".py",
   "mimetype": "text/x-python",
   "name": "python",
   "nbconvert_exporter": "python",
   "pygments_lexer": "ipython2",
   "version": "2.7.12"
  }
 },
 "nbformat": 4,
 "nbformat_minor": 1
}
